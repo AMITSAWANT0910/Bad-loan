{
 "cells": [
  {
   "cell_type": "code",
   "execution_count": 1,
   "id": "a924a2cb",
   "metadata": {},
   "outputs": [],
   "source": [
    "import pandas as pd\n",
    "import numpy as np\n",
    "import seaborn as sns \n",
    "import matplotlib.pyplot as plt\n",
    "from sklearn.model_selection import train_test_split\n",
    "from sklearn.metrics import accuracy_score,classification_report,confusion_matrix\n",
    "from sklearn.ensemble import RandomForestClassifier\n",
    "from imblearn.under_sampling import NearMiss, RandomUnderSampler # for under_sampling\n",
    "from imblearn.combine import SMOTETomek # for over_sampling\n",
    "from imblearn.over_sampling import RandomOverSampler,ADASYN,SMOTE # for over_sampling\n",
    "\n"
   ]
  },
  {
   "cell_type": "code",
   "execution_count": null,
   "id": "451903f6",
   "metadata": {},
   "outputs": [],
   "source": [
    "# !pip install -U imbalanced-learn\n",
    "# !pip install imblearn\n",
    "# !pip install imblearn\n",
    "# !pip install -c glemaitre imbalanced-learn\n",
    "# !pip install imblearn==0.0\n"
   ]
  },
  {
   "cell_type": "code",
   "execution_count": 2,
   "id": "83361858",
   "metadata": {},
   "outputs": [
    {
     "data": {
      "text/html": [
       "<div>\n",
       "<style scoped>\n",
       "    .dataframe tbody tr th:only-of-type {\n",
       "        vertical-align: middle;\n",
       "    }\n",
       "\n",
       "    .dataframe tbody tr th {\n",
       "        vertical-align: top;\n",
       "    }\n",
       "\n",
       "    .dataframe thead th {\n",
       "        text-align: right;\n",
       "    }\n",
       "</style>\n",
       "<table border=\"1\" class=\"dataframe\">\n",
       "  <thead>\n",
       "    <tr style=\"text-align: right;\">\n",
       "      <th></th>\n",
       "      <th>loan_amnt</th>\n",
       "      <th>term</th>\n",
       "      <th>int_rate</th>\n",
       "      <th>emp_length</th>\n",
       "      <th>home_ownership</th>\n",
       "      <th>annual_inc</th>\n",
       "      <th>purpose</th>\n",
       "      <th>addr_state</th>\n",
       "      <th>dti</th>\n",
       "      <th>delinq_2yrs</th>\n",
       "      <th>revol_util</th>\n",
       "      <th>total_acc</th>\n",
       "      <th>bad_loan</th>\n",
       "      <th>longest_credit_length</th>\n",
       "      <th>verification_status</th>\n",
       "    </tr>\n",
       "  </thead>\n",
       "  <tbody>\n",
       "    <tr>\n",
       "      <th>132244</th>\n",
       "      <td>12000</td>\n",
       "      <td>36 months</td>\n",
       "      <td>6.03</td>\n",
       "      <td>NaN</td>\n",
       "      <td>MORTGAGE</td>\n",
       "      <td>78000.0</td>\n",
       "      <td>credit_card</td>\n",
       "      <td>UT</td>\n",
       "      <td>15.20</td>\n",
       "      <td>0.0</td>\n",
       "      <td>24.4</td>\n",
       "      <td>38.0</td>\n",
       "      <td>0</td>\n",
       "      <td>29.0</td>\n",
       "      <td>verified</td>\n",
       "    </tr>\n",
       "    <tr>\n",
       "      <th>74501</th>\n",
       "      <td>8000</td>\n",
       "      <td>36 months</td>\n",
       "      <td>14.09</td>\n",
       "      <td>10.0</td>\n",
       "      <td>MORTGAGE</td>\n",
       "      <td>29000.0</td>\n",
       "      <td>credit_card</td>\n",
       "      <td>TX</td>\n",
       "      <td>16.76</td>\n",
       "      <td>0.0</td>\n",
       "      <td>74.7</td>\n",
       "      <td>27.0</td>\n",
       "      <td>1</td>\n",
       "      <td>16.0</td>\n",
       "      <td>verified</td>\n",
       "    </tr>\n",
       "    <tr>\n",
       "      <th>19863</th>\n",
       "      <td>12000</td>\n",
       "      <td>36 months</td>\n",
       "      <td>6.54</td>\n",
       "      <td>1.0</td>\n",
       "      <td>RENT</td>\n",
       "      <td>33000.0</td>\n",
       "      <td>debt_consolidation</td>\n",
       "      <td>NC</td>\n",
       "      <td>14.84</td>\n",
       "      <td>0.0</td>\n",
       "      <td>42.9</td>\n",
       "      <td>33.0</td>\n",
       "      <td>0</td>\n",
       "      <td>18.0</td>\n",
       "      <td>verified</td>\n",
       "    </tr>\n",
       "    <tr>\n",
       "      <th>24573</th>\n",
       "      <td>20000</td>\n",
       "      <td>36 months</td>\n",
       "      <td>7.88</td>\n",
       "      <td>6.0</td>\n",
       "      <td>OWN</td>\n",
       "      <td>85000.0</td>\n",
       "      <td>credit_card</td>\n",
       "      <td>NY</td>\n",
       "      <td>12.99</td>\n",
       "      <td>0.0</td>\n",
       "      <td>34.1</td>\n",
       "      <td>26.0</td>\n",
       "      <td>0</td>\n",
       "      <td>22.0</td>\n",
       "      <td>verified</td>\n",
       "    </tr>\n",
       "    <tr>\n",
       "      <th>162465</th>\n",
       "      <td>5000</td>\n",
       "      <td>36 months</td>\n",
       "      <td>12.39</td>\n",
       "      <td>0.0</td>\n",
       "      <td>OWN</td>\n",
       "      <td>40000.0</td>\n",
       "      <td>major_purchase</td>\n",
       "      <td>GA</td>\n",
       "      <td>5.04</td>\n",
       "      <td>0.0</td>\n",
       "      <td>75.3</td>\n",
       "      <td>20.0</td>\n",
       "      <td>0</td>\n",
       "      <td>11.0</td>\n",
       "      <td>not verified</td>\n",
       "    </tr>\n",
       "    <tr>\n",
       "      <th>153345</th>\n",
       "      <td>28000</td>\n",
       "      <td>60 months</td>\n",
       "      <td>18.92</td>\n",
       "      <td>10.0</td>\n",
       "      <td>MORTGAGE</td>\n",
       "      <td>78000.0</td>\n",
       "      <td>home_improvement</td>\n",
       "      <td>SC</td>\n",
       "      <td>18.82</td>\n",
       "      <td>0.0</td>\n",
       "      <td>87.5</td>\n",
       "      <td>37.0</td>\n",
       "      <td>0</td>\n",
       "      <td>16.0</td>\n",
       "      <td>not verified</td>\n",
       "    </tr>\n",
       "    <tr>\n",
       "      <th>90435</th>\n",
       "      <td>10000</td>\n",
       "      <td>36 months</td>\n",
       "      <td>6.62</td>\n",
       "      <td>10.0</td>\n",
       "      <td>MORTGAGE</td>\n",
       "      <td>120000.0</td>\n",
       "      <td>debt_consolidation</td>\n",
       "      <td>TX</td>\n",
       "      <td>11.47</td>\n",
       "      <td>0.0</td>\n",
       "      <td>91.7</td>\n",
       "      <td>29.0</td>\n",
       "      <td>0</td>\n",
       "      <td>21.0</td>\n",
       "      <td>not verified</td>\n",
       "    </tr>\n",
       "    <tr>\n",
       "      <th>69848</th>\n",
       "      <td>5500</td>\n",
       "      <td>36 months</td>\n",
       "      <td>17.27</td>\n",
       "      <td>8.0</td>\n",
       "      <td>RENT</td>\n",
       "      <td>33000.0</td>\n",
       "      <td>debt_consolidation</td>\n",
       "      <td>HI</td>\n",
       "      <td>13.45</td>\n",
       "      <td>0.0</td>\n",
       "      <td>61.9</td>\n",
       "      <td>29.0</td>\n",
       "      <td>1</td>\n",
       "      <td>11.0</td>\n",
       "      <td>verified</td>\n",
       "    </tr>\n",
       "    <tr>\n",
       "      <th>128212</th>\n",
       "      <td>12800</td>\n",
       "      <td>60 months</td>\n",
       "      <td>12.99</td>\n",
       "      <td>10.0</td>\n",
       "      <td>RENT</td>\n",
       "      <td>75000.0</td>\n",
       "      <td>debt_consolidation</td>\n",
       "      <td>NY</td>\n",
       "      <td>14.26</td>\n",
       "      <td>0.0</td>\n",
       "      <td>43.6</td>\n",
       "      <td>42.0</td>\n",
       "      <td>0</td>\n",
       "      <td>20.0</td>\n",
       "      <td>verified</td>\n",
       "    </tr>\n",
       "    <tr>\n",
       "      <th>128076</th>\n",
       "      <td>10000</td>\n",
       "      <td>36 months</td>\n",
       "      <td>11.44</td>\n",
       "      <td>0.0</td>\n",
       "      <td>RENT</td>\n",
       "      <td>28000.0</td>\n",
       "      <td>debt_consolidation</td>\n",
       "      <td>MD</td>\n",
       "      <td>25.25</td>\n",
       "      <td>0.0</td>\n",
       "      <td>37.8</td>\n",
       "      <td>15.0</td>\n",
       "      <td>0</td>\n",
       "      <td>8.0</td>\n",
       "      <td>verified</td>\n",
       "    </tr>\n",
       "  </tbody>\n",
       "</table>\n",
       "</div>"
      ],
      "text/plain": [
       "        loan_amnt       term  int_rate  emp_length home_ownership  annual_inc  \\\n",
       "132244      12000  36 months      6.03         NaN       MORTGAGE     78000.0   \n",
       "74501        8000  36 months     14.09        10.0       MORTGAGE     29000.0   \n",
       "19863       12000  36 months      6.54         1.0           RENT     33000.0   \n",
       "24573       20000  36 months      7.88         6.0            OWN     85000.0   \n",
       "162465       5000  36 months     12.39         0.0            OWN     40000.0   \n",
       "153345      28000  60 months     18.92        10.0       MORTGAGE     78000.0   \n",
       "90435       10000  36 months      6.62        10.0       MORTGAGE    120000.0   \n",
       "69848        5500  36 months     17.27         8.0           RENT     33000.0   \n",
       "128212      12800  60 months     12.99        10.0           RENT     75000.0   \n",
       "128076      10000  36 months     11.44         0.0           RENT     28000.0   \n",
       "\n",
       "                   purpose addr_state    dti  delinq_2yrs  revol_util  \\\n",
       "132244         credit_card         UT  15.20          0.0        24.4   \n",
       "74501          credit_card         TX  16.76          0.0        74.7   \n",
       "19863   debt_consolidation         NC  14.84          0.0        42.9   \n",
       "24573          credit_card         NY  12.99          0.0        34.1   \n",
       "162465      major_purchase         GA   5.04          0.0        75.3   \n",
       "153345    home_improvement         SC  18.82          0.0        87.5   \n",
       "90435   debt_consolidation         TX  11.47          0.0        91.7   \n",
       "69848   debt_consolidation         HI  13.45          0.0        61.9   \n",
       "128212  debt_consolidation         NY  14.26          0.0        43.6   \n",
       "128076  debt_consolidation         MD  25.25          0.0        37.8   \n",
       "\n",
       "        total_acc  bad_loan  longest_credit_length verification_status  \n",
       "132244       38.0         0                   29.0            verified  \n",
       "74501        27.0         1                   16.0            verified  \n",
       "19863        33.0         0                   18.0            verified  \n",
       "24573        26.0         0                   22.0            verified  \n",
       "162465       20.0         0                   11.0        not verified  \n",
       "153345       37.0         0                   16.0        not verified  \n",
       "90435        29.0         0                   21.0        not verified  \n",
       "69848        29.0         1                   11.0            verified  \n",
       "128212       42.0         0                   20.0            verified  \n",
       "128076       15.0         0                    8.0            verified  "
      ]
     },
     "execution_count": 2,
     "metadata": {},
     "output_type": "execute_result"
    }
   ],
   "source": [
    "df = pd.read_csv(\"loan.csv\")\n",
    "df.sample(10)"
   ]
  },
  {
   "cell_type": "code",
   "execution_count": 3,
   "id": "79d160b6",
   "metadata": {},
   "outputs": [
    {
     "data": {
      "text/html": [
       "<div>\n",
       "<style scoped>\n",
       "    .dataframe tbody tr th:only-of-type {\n",
       "        vertical-align: middle;\n",
       "    }\n",
       "\n",
       "    .dataframe tbody tr th {\n",
       "        vertical-align: top;\n",
       "    }\n",
       "\n",
       "    .dataframe thead th {\n",
       "        text-align: right;\n",
       "    }\n",
       "</style>\n",
       "<table border=\"1\" class=\"dataframe\">\n",
       "  <thead>\n",
       "    <tr style=\"text-align: right;\">\n",
       "      <th></th>\n",
       "      <th>loan_amnt</th>\n",
       "      <th>term</th>\n",
       "      <th>int_rate</th>\n",
       "      <th>emp_length</th>\n",
       "      <th>home_ownership</th>\n",
       "      <th>annual_inc</th>\n",
       "      <th>purpose</th>\n",
       "      <th>addr_state</th>\n",
       "      <th>dti</th>\n",
       "      <th>delinq_2yrs</th>\n",
       "      <th>revol_util</th>\n",
       "      <th>total_acc</th>\n",
       "      <th>bad_loan</th>\n",
       "      <th>longest_credit_length</th>\n",
       "      <th>verification_status</th>\n",
       "    </tr>\n",
       "  </thead>\n",
       "  <tbody>\n",
       "    <tr>\n",
       "      <th>0</th>\n",
       "      <td>5000</td>\n",
       "      <td>36 months</td>\n",
       "      <td>10.65</td>\n",
       "      <td>10.0</td>\n",
       "      <td>RENT</td>\n",
       "      <td>24000.0</td>\n",
       "      <td>credit_card</td>\n",
       "      <td>AZ</td>\n",
       "      <td>27.65</td>\n",
       "      <td>0.0</td>\n",
       "      <td>83.7</td>\n",
       "      <td>9.0</td>\n",
       "      <td>0</td>\n",
       "      <td>26.0</td>\n",
       "      <td>verified</td>\n",
       "    </tr>\n",
       "    <tr>\n",
       "      <th>1</th>\n",
       "      <td>2500</td>\n",
       "      <td>60 months</td>\n",
       "      <td>15.27</td>\n",
       "      <td>0.0</td>\n",
       "      <td>RENT</td>\n",
       "      <td>30000.0</td>\n",
       "      <td>car</td>\n",
       "      <td>GA</td>\n",
       "      <td>1.00</td>\n",
       "      <td>0.0</td>\n",
       "      <td>9.4</td>\n",
       "      <td>4.0</td>\n",
       "      <td>1</td>\n",
       "      <td>12.0</td>\n",
       "      <td>verified</td>\n",
       "    </tr>\n",
       "    <tr>\n",
       "      <th>2</th>\n",
       "      <td>2400</td>\n",
       "      <td>36 months</td>\n",
       "      <td>15.96</td>\n",
       "      <td>10.0</td>\n",
       "      <td>RENT</td>\n",
       "      <td>12252.0</td>\n",
       "      <td>small_business</td>\n",
       "      <td>IL</td>\n",
       "      <td>8.72</td>\n",
       "      <td>0.0</td>\n",
       "      <td>98.5</td>\n",
       "      <td>10.0</td>\n",
       "      <td>0</td>\n",
       "      <td>10.0</td>\n",
       "      <td>not verified</td>\n",
       "    </tr>\n",
       "    <tr>\n",
       "      <th>3</th>\n",
       "      <td>10000</td>\n",
       "      <td>36 months</td>\n",
       "      <td>13.49</td>\n",
       "      <td>10.0</td>\n",
       "      <td>RENT</td>\n",
       "      <td>49200.0</td>\n",
       "      <td>other</td>\n",
       "      <td>CA</td>\n",
       "      <td>20.00</td>\n",
       "      <td>0.0</td>\n",
       "      <td>21.0</td>\n",
       "      <td>37.0</td>\n",
       "      <td>0</td>\n",
       "      <td>15.0</td>\n",
       "      <td>verified</td>\n",
       "    </tr>\n",
       "    <tr>\n",
       "      <th>4</th>\n",
       "      <td>5000</td>\n",
       "      <td>36 months</td>\n",
       "      <td>7.90</td>\n",
       "      <td>3.0</td>\n",
       "      <td>RENT</td>\n",
       "      <td>36000.0</td>\n",
       "      <td>wedding</td>\n",
       "      <td>AZ</td>\n",
       "      <td>11.20</td>\n",
       "      <td>0.0</td>\n",
       "      <td>28.3</td>\n",
       "      <td>12.0</td>\n",
       "      <td>0</td>\n",
       "      <td>7.0</td>\n",
       "      <td>verified</td>\n",
       "    </tr>\n",
       "  </tbody>\n",
       "</table>\n",
       "</div>"
      ],
      "text/plain": [
       "   loan_amnt       term  int_rate  emp_length home_ownership  annual_inc  \\\n",
       "0       5000  36 months     10.65        10.0           RENT     24000.0   \n",
       "1       2500  60 months     15.27         0.0           RENT     30000.0   \n",
       "2       2400  36 months     15.96        10.0           RENT     12252.0   \n",
       "3      10000  36 months     13.49        10.0           RENT     49200.0   \n",
       "4       5000  36 months      7.90         3.0           RENT     36000.0   \n",
       "\n",
       "          purpose addr_state    dti  delinq_2yrs  revol_util  total_acc  \\\n",
       "0     credit_card         AZ  27.65          0.0        83.7        9.0   \n",
       "1             car         GA   1.00          0.0         9.4        4.0   \n",
       "2  small_business         IL   8.72          0.0        98.5       10.0   \n",
       "3           other         CA  20.00          0.0        21.0       37.0   \n",
       "4         wedding         AZ  11.20          0.0        28.3       12.0   \n",
       "\n",
       "   bad_loan  longest_credit_length verification_status  \n",
       "0         0                   26.0            verified  \n",
       "1         1                   12.0            verified  \n",
       "2         0                   10.0        not verified  \n",
       "3         0                   15.0            verified  \n",
       "4         0                    7.0            verified  "
      ]
     },
     "execution_count": 3,
     "metadata": {},
     "output_type": "execute_result"
    }
   ],
   "source": [
    "df.head()"
   ]
  },
  {
   "cell_type": "code",
   "execution_count": 4,
   "id": "9d50f2f3",
   "metadata": {},
   "outputs": [
    {
     "name": "stdout",
     "output_type": "stream",
     "text": [
      "<class 'pandas.core.frame.DataFrame'>\n",
      "RangeIndex: 163987 entries, 0 to 163986\n",
      "Data columns (total 15 columns):\n",
      " #   Column                 Non-Null Count   Dtype  \n",
      "---  ------                 --------------   -----  \n",
      " 0   loan_amnt              163987 non-null  int64  \n",
      " 1   term                   163987 non-null  object \n",
      " 2   int_rate               163987 non-null  float64\n",
      " 3   emp_length             158183 non-null  float64\n",
      " 4   home_ownership         163987 non-null  object \n",
      " 5   annual_inc             163983 non-null  float64\n",
      " 6   purpose                163987 non-null  object \n",
      " 7   addr_state             163987 non-null  object \n",
      " 8   dti                    163987 non-null  float64\n",
      " 9   delinq_2yrs            163958 non-null  float64\n",
      " 10  revol_util             163794 non-null  float64\n",
      " 11  total_acc              163958 non-null  float64\n",
      " 12  bad_loan               163987 non-null  int64  \n",
      " 13  longest_credit_length  163958 non-null  float64\n",
      " 14  verification_status    163987 non-null  object \n",
      "dtypes: float64(8), int64(2), object(5)\n",
      "memory usage: 18.8+ MB\n"
     ]
    }
   ],
   "source": [
    "df.info()"
   ]
  },
  {
   "cell_type": "code",
   "execution_count": 5,
   "id": "e52ddcf7",
   "metadata": {},
   "outputs": [
    {
     "data": {
      "text/plain": [
       "loan_amnt                   0\n",
       "term                        0\n",
       "int_rate                    0\n",
       "emp_length               5804\n",
       "home_ownership              0\n",
       "annual_inc                  4\n",
       "purpose                     0\n",
       "addr_state                  0\n",
       "dti                         0\n",
       "delinq_2yrs                29\n",
       "revol_util                193\n",
       "total_acc                  29\n",
       "bad_loan                    0\n",
       "longest_credit_length      29\n",
       "verification_status         0\n",
       "dtype: int64"
      ]
     },
     "execution_count": 5,
     "metadata": {},
     "output_type": "execute_result"
    }
   ],
   "source": [
    "df.isna().sum()"
   ]
  },
  {
   "cell_type": "code",
   "execution_count": 6,
   "id": "1ea71816",
   "metadata": {
    "scrolled": true
   },
   "outputs": [
    {
     "data": {
      "text/html": [
       "<div>\n",
       "<style scoped>\n",
       "    .dataframe tbody tr th:only-of-type {\n",
       "        vertical-align: middle;\n",
       "    }\n",
       "\n",
       "    .dataframe tbody tr th {\n",
       "        vertical-align: top;\n",
       "    }\n",
       "\n",
       "    .dataframe thead th {\n",
       "        text-align: right;\n",
       "    }\n",
       "</style>\n",
       "<table border=\"1\" class=\"dataframe\">\n",
       "  <thead>\n",
       "    <tr style=\"text-align: right;\">\n",
       "      <th></th>\n",
       "      <th>loan_amnt</th>\n",
       "      <th>int_rate</th>\n",
       "      <th>emp_length</th>\n",
       "      <th>annual_inc</th>\n",
       "      <th>dti</th>\n",
       "      <th>delinq_2yrs</th>\n",
       "      <th>revol_util</th>\n",
       "      <th>total_acc</th>\n",
       "      <th>bad_loan</th>\n",
       "      <th>longest_credit_length</th>\n",
       "    </tr>\n",
       "  </thead>\n",
       "  <tbody>\n",
       "    <tr>\n",
       "      <th>count</th>\n",
       "      <td>163987.000000</td>\n",
       "      <td>163987.000000</td>\n",
       "      <td>158183.000000</td>\n",
       "      <td>1.639830e+05</td>\n",
       "      <td>163987.000000</td>\n",
       "      <td>163958.000000</td>\n",
       "      <td>163794.000000</td>\n",
       "      <td>163958.000000</td>\n",
       "      <td>163987.000000</td>\n",
       "      <td>163958.000000</td>\n",
       "    </tr>\n",
       "    <tr>\n",
       "      <th>mean</th>\n",
       "      <td>13074.169141</td>\n",
       "      <td>13.715904</td>\n",
       "      <td>5.684353</td>\n",
       "      <td>7.191567e+04</td>\n",
       "      <td>15.881530</td>\n",
       "      <td>0.227357</td>\n",
       "      <td>54.079173</td>\n",
       "      <td>24.579734</td>\n",
       "      <td>0.183039</td>\n",
       "      <td>14.854274</td>\n",
       "    </tr>\n",
       "    <tr>\n",
       "      <th>std</th>\n",
       "      <td>7993.556189</td>\n",
       "      <td>4.391940</td>\n",
       "      <td>3.610664</td>\n",
       "      <td>5.907092e+04</td>\n",
       "      <td>7.587668</td>\n",
       "      <td>0.694168</td>\n",
       "      <td>25.285367</td>\n",
       "      <td>11.685190</td>\n",
       "      <td>0.386700</td>\n",
       "      <td>6.947733</td>\n",
       "    </tr>\n",
       "    <tr>\n",
       "      <th>min</th>\n",
       "      <td>500.000000</td>\n",
       "      <td>5.420000</td>\n",
       "      <td>0.000000</td>\n",
       "      <td>1.896000e+03</td>\n",
       "      <td>0.000000</td>\n",
       "      <td>0.000000</td>\n",
       "      <td>0.000000</td>\n",
       "      <td>1.000000</td>\n",
       "      <td>0.000000</td>\n",
       "      <td>0.000000</td>\n",
       "    </tr>\n",
       "    <tr>\n",
       "      <th>25%</th>\n",
       "      <td>7000.000000</td>\n",
       "      <td>10.650000</td>\n",
       "      <td>2.000000</td>\n",
       "      <td>4.500000e+04</td>\n",
       "      <td>10.230000</td>\n",
       "      <td>0.000000</td>\n",
       "      <td>35.600000</td>\n",
       "      <td>16.000000</td>\n",
       "      <td>0.000000</td>\n",
       "      <td>10.000000</td>\n",
       "    </tr>\n",
       "    <tr>\n",
       "      <th>50%</th>\n",
       "      <td>11325.000000</td>\n",
       "      <td>13.490000</td>\n",
       "      <td>6.000000</td>\n",
       "      <td>6.100000e+04</td>\n",
       "      <td>15.620000</td>\n",
       "      <td>0.000000</td>\n",
       "      <td>55.800000</td>\n",
       "      <td>23.000000</td>\n",
       "      <td>0.000000</td>\n",
       "      <td>14.000000</td>\n",
       "    </tr>\n",
       "    <tr>\n",
       "      <th>75%</th>\n",
       "      <td>18000.000000</td>\n",
       "      <td>16.320000</td>\n",
       "      <td>10.000000</td>\n",
       "      <td>8.500000e+04</td>\n",
       "      <td>21.260000</td>\n",
       "      <td>0.000000</td>\n",
       "      <td>74.200000</td>\n",
       "      <td>31.000000</td>\n",
       "      <td>0.000000</td>\n",
       "      <td>18.000000</td>\n",
       "    </tr>\n",
       "    <tr>\n",
       "      <th>max</th>\n",
       "      <td>35000.000000</td>\n",
       "      <td>26.060000</td>\n",
       "      <td>10.000000</td>\n",
       "      <td>7.141778e+06</td>\n",
       "      <td>39.990000</td>\n",
       "      <td>29.000000</td>\n",
       "      <td>150.700000</td>\n",
       "      <td>118.000000</td>\n",
       "      <td>1.000000</td>\n",
       "      <td>65.000000</td>\n",
       "    </tr>\n",
       "  </tbody>\n",
       "</table>\n",
       "</div>"
      ],
      "text/plain": [
       "           loan_amnt       int_rate     emp_length    annual_inc  \\\n",
       "count  163987.000000  163987.000000  158183.000000  1.639830e+05   \n",
       "mean    13074.169141      13.715904       5.684353  7.191567e+04   \n",
       "std      7993.556189       4.391940       3.610664  5.907092e+04   \n",
       "min       500.000000       5.420000       0.000000  1.896000e+03   \n",
       "25%      7000.000000      10.650000       2.000000  4.500000e+04   \n",
       "50%     11325.000000      13.490000       6.000000  6.100000e+04   \n",
       "75%     18000.000000      16.320000      10.000000  8.500000e+04   \n",
       "max     35000.000000      26.060000      10.000000  7.141778e+06   \n",
       "\n",
       "                 dti    delinq_2yrs     revol_util      total_acc  \\\n",
       "count  163987.000000  163958.000000  163794.000000  163958.000000   \n",
       "mean       15.881530       0.227357      54.079173      24.579734   \n",
       "std         7.587668       0.694168      25.285367      11.685190   \n",
       "min         0.000000       0.000000       0.000000       1.000000   \n",
       "25%        10.230000       0.000000      35.600000      16.000000   \n",
       "50%        15.620000       0.000000      55.800000      23.000000   \n",
       "75%        21.260000       0.000000      74.200000      31.000000   \n",
       "max        39.990000      29.000000     150.700000     118.000000   \n",
       "\n",
       "            bad_loan  longest_credit_length  \n",
       "count  163987.000000          163958.000000  \n",
       "mean        0.183039              14.854274  \n",
       "std         0.386700               6.947733  \n",
       "min         0.000000               0.000000  \n",
       "25%         0.000000              10.000000  \n",
       "50%         0.000000              14.000000  \n",
       "75%         0.000000              18.000000  \n",
       "max         1.000000              65.000000  "
      ]
     },
     "execution_count": 6,
     "metadata": {},
     "output_type": "execute_result"
    }
   ],
   "source": [
    "df.describe()"
   ]
  },
  {
   "cell_type": "code",
   "execution_count": 7,
   "id": "fb8a3723",
   "metadata": {},
   "outputs": [],
   "source": [
    "from pandas_profiling import ProfileReport\n"
   ]
  },
  {
   "cell_type": "code",
   "execution_count": 8,
   "id": "1e717c92",
   "metadata": {},
   "outputs": [],
   "source": [
    "# pfile = ProfileReport(df)\n",
    "# pfile.to_file(output_file= \"badloan.html\")"
   ]
  },
  {
   "cell_type": "code",
   "execution_count": 9,
   "id": "9a777816",
   "metadata": {},
   "outputs": [],
   "source": [
    "# import sweetviz as sv\n",
    "# sweet_repo = sv.analyze(df)\n",
    "# sweet_repo.show_html(\"Loan.html\")"
   ]
  },
  {
   "cell_type": "code",
   "execution_count": 10,
   "id": "50d42319",
   "metadata": {},
   "outputs": [
    {
     "data": {
      "text/plain": [
       "(163987, 15)"
      ]
     },
     "execution_count": 10,
     "metadata": {},
     "output_type": "execute_result"
    }
   ],
   "source": [
    "df.shape"
   ]
  },
  {
   "cell_type": "code",
   "execution_count": 11,
   "id": "115ecd4b",
   "metadata": {},
   "outputs": [
    {
     "data": {
      "text/plain": [
       "Index(['loan_amnt', 'term', 'int_rate', 'emp_length', 'home_ownership',\n",
       "       'annual_inc', 'purpose', 'addr_state', 'dti', 'delinq_2yrs',\n",
       "       'revol_util', 'total_acc', 'bad_loan', 'longest_credit_length',\n",
       "       'verification_status'],\n",
       "      dtype='object')"
      ]
     },
     "execution_count": 11,
     "metadata": {},
     "output_type": "execute_result"
    }
   ],
   "source": [
    "df.columns"
   ]
  },
  {
   "cell_type": "markdown",
   "id": "ea3b8db4",
   "metadata": {},
   "source": [
    "# preprocessing"
   ]
  },
  {
   "cell_type": "markdown",
   "id": "33597e53",
   "metadata": {},
   "source": [
    "### 1"
   ]
  },
  {
   "cell_type": "code",
   "execution_count": 12,
   "id": "b9fe8f69",
   "metadata": {},
   "outputs": [
    {
     "data": {
      "text/plain": [
       "1274"
      ]
     },
     "execution_count": 12,
     "metadata": {},
     "output_type": "execute_result"
    }
   ],
   "source": [
    "df.loan_amnt.nunique()"
   ]
  },
  {
   "cell_type": "code",
   "execution_count": 13,
   "id": "d4d8f2cc",
   "metadata": {},
   "outputs": [
    {
     "name": "stderr",
     "output_type": "stream",
     "text": [
      "C:\\ProgramData\\Anaconda3\\lib\\site-packages\\seaborn\\_decorators.py:36: FutureWarning: Pass the following variable as a keyword arg: x. From version 0.12, the only valid positional argument will be `data`, and passing other arguments without an explicit keyword will result in an error or misinterpretation.\n",
      "  warnings.warn(\n"
     ]
    },
    {
     "data": {
      "text/plain": [
       "<AxesSubplot:xlabel='loan_amnt'>"
      ]
     },
     "execution_count": 13,
     "metadata": {},
     "output_type": "execute_result"
    }
   ],
   "source": [
    "sns.boxplot(df[\"loan_amnt\"])"
   ]
  },
  {
   "cell_type": "code",
   "execution_count": 14,
   "id": "3545a45f",
   "metadata": {},
   "outputs": [
    {
     "data": {
      "text/plain": [
       "<AxesSubplot:xlabel='loan_amnt'>"
      ]
     },
     "execution_count": 14,
     "metadata": {},
     "output_type": "execute_result"
    }
   ],
   "source": [
    "df[[\"loan_amnt\"]].boxplot()"
   ]
  },
  {
   "cell_type": "markdown",
   "id": "d04b66d6",
   "metadata": {},
   "source": [
    "### 2"
   ]
  },
  {
   "cell_type": "code",
   "execution_count": 15,
   "id": "692df637",
   "metadata": {},
   "outputs": [
    {
     "data": {
      "text/plain": [
       "2"
      ]
     },
     "execution_count": 15,
     "metadata": {},
     "output_type": "execute_result"
    }
   ],
   "source": [
    "df.term.nunique()"
   ]
  },
  {
   "cell_type": "code",
   "execution_count": 16,
   "id": "d141e9dc",
   "metadata": {},
   "outputs": [
    {
     "data": {
      "text/plain": [
       "array(['36 months', '60 months'], dtype=object)"
      ]
     },
     "execution_count": 16,
     "metadata": {},
     "output_type": "execute_result"
    }
   ],
   "source": [
    "df.term.unique()"
   ]
  },
  {
   "cell_type": "code",
   "execution_count": 17,
   "id": "f864d22b",
   "metadata": {
    "scrolled": true
   },
   "outputs": [
    {
     "name": "stderr",
     "output_type": "stream",
     "text": [
      "C:\\ProgramData\\Anaconda3\\lib\\site-packages\\seaborn\\_decorators.py:36: FutureWarning: Pass the following variable as a keyword arg: x. From version 0.12, the only valid positional argument will be `data`, and passing other arguments without an explicit keyword will result in an error or misinterpretation.\n",
      "  warnings.warn(\n"
     ]
    },
    {
     "data": {
      "text/plain": [
       "<AxesSubplot:xlabel='term', ylabel='count'>"
      ]
     },
     "execution_count": 17,
     "metadata": {},
     "output_type": "execute_result"
    }
   ],
   "source": [
    "sns.countplot(df[\"term\"])"
   ]
  },
  {
   "cell_type": "code",
   "execution_count": 18,
   "id": "b5bed743",
   "metadata": {},
   "outputs": [],
   "source": [
    "df[\"term\"] = df[\"term\"].apply(lambda x : x.split(\" \")[0])"
   ]
  },
  {
   "cell_type": "code",
   "execution_count": 19,
   "id": "c9371e7d",
   "metadata": {},
   "outputs": [
    {
     "data": {
      "text/plain": [
       "dtype('O')"
      ]
     },
     "execution_count": 19,
     "metadata": {},
     "output_type": "execute_result"
    }
   ],
   "source": [
    "df[\"term\"].dtype"
   ]
  },
  {
   "cell_type": "code",
   "execution_count": 20,
   "id": "dff3f4f3",
   "metadata": {},
   "outputs": [],
   "source": [
    "df[\"term\"] = df[\"term\"].astype(int)"
   ]
  },
  {
   "cell_type": "code",
   "execution_count": 21,
   "id": "ea19b15f",
   "metadata": {},
   "outputs": [
    {
     "data": {
      "text/plain": [
       "dtype('int32')"
      ]
     },
     "execution_count": 21,
     "metadata": {},
     "output_type": "execute_result"
    }
   ],
   "source": [
    "df[\"term\"].dtype"
   ]
  },
  {
   "cell_type": "markdown",
   "id": "0e1eb312",
   "metadata": {},
   "source": [
    "### 3"
   ]
  },
  {
   "cell_type": "code",
   "execution_count": 22,
   "id": "cf77842c",
   "metadata": {},
   "outputs": [
    {
     "data": {
      "text/plain": [
       "512"
      ]
     },
     "execution_count": 22,
     "metadata": {},
     "output_type": "execute_result"
    }
   ],
   "source": [
    "df.int_rate.nunique()"
   ]
  },
  {
   "cell_type": "code",
   "execution_count": 23,
   "id": "b02ba516",
   "metadata": {},
   "outputs": [
    {
     "data": {
      "text/plain": [
       "<AxesSubplot:xlabel='term', ylabel='count'>"
      ]
     },
     "execution_count": 23,
     "metadata": {},
     "output_type": "execute_result"
    }
   ],
   "source": [
    "df[[\"int_rate\"]].boxplot()"
   ]
  },
  {
   "cell_type": "code",
   "execution_count": 24,
   "id": "07e50bea",
   "metadata": {},
   "outputs": [
    {
     "data": {
      "text/plain": [
       "0"
      ]
     },
     "execution_count": 24,
     "metadata": {},
     "output_type": "execute_result"
    }
   ],
   "source": [
    "df[\"int_rate\"].isna().sum()"
   ]
  },
  {
   "cell_type": "code",
   "execution_count": 25,
   "id": "d5742b54",
   "metadata": {},
   "outputs": [],
   "source": [
    "q1 = df[\"int_rate\"].quantile(0.25)\n",
    "q3 = df[\"int_rate\"].quantile(0.75)\n",
    "IQR = q3-q1\n",
    "upper_limit = q3 + 1.5*IQR\n",
    "df[\"int_rate\"] = np.where(df[\"int_rate\"] > upper_limit,upper_limit,df[\"int_rate\"])"
   ]
  },
  {
   "cell_type": "code",
   "execution_count": 26,
   "id": "1ed3b9df",
   "metadata": {},
   "outputs": [
    {
     "data": {
      "text/plain": [
       "<AxesSubplot:xlabel='term', ylabel='count'>"
      ]
     },
     "execution_count": 26,
     "metadata": {},
     "output_type": "execute_result"
    }
   ],
   "source": [
    "df[[\"int_rate\"]].boxplot()"
   ]
  },
  {
   "cell_type": "markdown",
   "id": "49463fc0",
   "metadata": {},
   "source": [
    "### 4"
   ]
  },
  {
   "cell_type": "code",
   "execution_count": 27,
   "id": "562bcbfe",
   "metadata": {},
   "outputs": [
    {
     "data": {
      "text/plain": [
       "array([10.,  0.,  3.,  9.,  4.,  5.,  1.,  6.,  2.,  7.,  8., nan])"
      ]
     },
     "execution_count": 27,
     "metadata": {},
     "output_type": "execute_result"
    }
   ],
   "source": [
    "df.emp_length.unique()"
   ]
  },
  {
   "cell_type": "code",
   "execution_count": 28,
   "id": "6fc9cc63",
   "metadata": {},
   "outputs": [
    {
     "data": {
      "text/plain": [
       "11"
      ]
     },
     "execution_count": 28,
     "metadata": {},
     "output_type": "execute_result"
    }
   ],
   "source": [
    "df.emp_length.nunique()"
   ]
  },
  {
   "cell_type": "code",
   "execution_count": 29,
   "id": "e646e46f",
   "metadata": {},
   "outputs": [
    {
     "data": {
      "text/plain": [
       "5804"
      ]
     },
     "execution_count": 29,
     "metadata": {},
     "output_type": "execute_result"
    }
   ],
   "source": [
    "df[\"emp_length\"].isna().sum()"
   ]
  },
  {
   "cell_type": "code",
   "execution_count": 30,
   "id": "9c322713",
   "metadata": {},
   "outputs": [],
   "source": [
    "df[\"emp_length\"].fillna(df[\"emp_length\"].mean(),inplace = True)"
   ]
  },
  {
   "cell_type": "code",
   "execution_count": 31,
   "id": "963ef209",
   "metadata": {},
   "outputs": [
    {
     "data": {
      "text/plain": [
       "0"
      ]
     },
     "execution_count": 31,
     "metadata": {},
     "output_type": "execute_result"
    }
   ],
   "source": [
    "df[\"emp_length\"].isna().sum()"
   ]
  },
  {
   "cell_type": "code",
   "execution_count": 32,
   "id": "1bb4f3ed",
   "metadata": {},
   "outputs": [
    {
     "data": {
      "text/plain": [
       "<AxesSubplot:xlabel='term', ylabel='count'>"
      ]
     },
     "execution_count": 32,
     "metadata": {},
     "output_type": "execute_result"
    }
   ],
   "source": [
    "df[[\"emp_length\"]].boxplot()"
   ]
  },
  {
   "cell_type": "markdown",
   "id": "f3ac8df4",
   "metadata": {},
   "source": [
    "### 5"
   ]
  },
  {
   "cell_type": "code",
   "execution_count": 33,
   "id": "892847f5",
   "metadata": {},
   "outputs": [
    {
     "data": {
      "text/plain": [
       "array(['RENT', 'OWN', 'MORTGAGE', 'OTHER', 'NONE', 'ANY'], dtype=object)"
      ]
     },
     "execution_count": 33,
     "metadata": {},
     "output_type": "execute_result"
    }
   ],
   "source": [
    "df.home_ownership.unique()"
   ]
  },
  {
   "cell_type": "code",
   "execution_count": 34,
   "id": "76f4a9c9",
   "metadata": {},
   "outputs": [
    {
     "data": {
      "text/plain": [
       "6"
      ]
     },
     "execution_count": 34,
     "metadata": {},
     "output_type": "execute_result"
    }
   ],
   "source": [
    "df.home_ownership.nunique()"
   ]
  },
  {
   "cell_type": "code",
   "execution_count": 35,
   "id": "d6a07718",
   "metadata": {},
   "outputs": [
    {
     "data": {
      "text/plain": [
       "0"
      ]
     },
     "execution_count": 35,
     "metadata": {},
     "output_type": "execute_result"
    }
   ],
   "source": [
    "df.home_ownership.isna().sum()"
   ]
  },
  {
   "cell_type": "code",
   "execution_count": 36,
   "id": "455109ac",
   "metadata": {},
   "outputs": [
    {
     "data": {
      "text/plain": [
       "dtype('O')"
      ]
     },
     "execution_count": 36,
     "metadata": {},
     "output_type": "execute_result"
    }
   ],
   "source": [
    "df.home_ownership.dtype"
   ]
  },
  {
   "cell_type": "code",
   "execution_count": 37,
   "id": "35bed707",
   "metadata": {},
   "outputs": [
    {
     "data": {
      "text/plain": [
       "{'MORTGAGE': 79714,\n",
       " 'RENT': 70526,\n",
       " 'OWN': 13560,\n",
       " 'OTHER': 156,\n",
       " 'NONE': 30,\n",
       " 'ANY': 1}"
      ]
     },
     "execution_count": 37,
     "metadata": {},
     "output_type": "execute_result"
    }
   ],
   "source": [
    "df.home_ownership.value_counts().to_dict()"
   ]
  },
  {
   "cell_type": "code",
   "execution_count": 38,
   "id": "f69be4da",
   "metadata": {},
   "outputs": [],
   "source": [
    "df[\"home_ownership\"].replace({'MORTGAGE': 4,'RENT': 3,\n",
    "                              'OWN': 5, 'OTHER': 2,\n",
    "                              'NONE': 0,'ANY': 1},inplace = True)"
   ]
  },
  {
   "cell_type": "code",
   "execution_count": 39,
   "id": "f5100103",
   "metadata": {},
   "outputs": [
    {
     "data": {
      "text/plain": [
       "dtype('int64')"
      ]
     },
     "execution_count": 39,
     "metadata": {},
     "output_type": "execute_result"
    }
   ],
   "source": [
    "df.home_ownership.dtype"
   ]
  },
  {
   "cell_type": "code",
   "execution_count": 40,
   "id": "9afd8b20",
   "metadata": {},
   "outputs": [
    {
     "data": {
      "text/plain": [
       "0         24000.0\n",
       "1         30000.0\n",
       "2         12252.0\n",
       "3         49200.0\n",
       "4         36000.0\n",
       "           ...   \n",
       "163982    45000.0\n",
       "163983    80000.0\n",
       "163984    38000.0\n",
       "163985    60000.0\n",
       "163986    63078.0\n",
       "Name: annual_inc, Length: 163987, dtype: float64"
      ]
     },
     "execution_count": 40,
     "metadata": {},
     "output_type": "execute_result"
    }
   ],
   "source": [
    "df.annual_inc"
   ]
  },
  {
   "cell_type": "markdown",
   "id": "038f73ca",
   "metadata": {},
   "source": [
    "### 6"
   ]
  },
  {
   "cell_type": "code",
   "execution_count": 41,
   "id": "275bd66a",
   "metadata": {},
   "outputs": [
    {
     "data": {
      "text/plain": [
       "14112"
      ]
     },
     "execution_count": 41,
     "metadata": {},
     "output_type": "execute_result"
    }
   ],
   "source": [
    "df.annual_inc.nunique()"
   ]
  },
  {
   "cell_type": "code",
   "execution_count": 42,
   "id": "56d12b71",
   "metadata": {},
   "outputs": [
    {
     "data": {
      "text/plain": [
       "4"
      ]
     },
     "execution_count": 42,
     "metadata": {},
     "output_type": "execute_result"
    }
   ],
   "source": [
    "df.annual_inc.isna().sum()"
   ]
  },
  {
   "cell_type": "code",
   "execution_count": 43,
   "id": "01a35f1a",
   "metadata": {},
   "outputs": [],
   "source": [
    "df[\"annual_inc\"].fillna(df[\"annual_inc\"].mean(),inplace = True)"
   ]
  },
  {
   "cell_type": "code",
   "execution_count": 44,
   "id": "d20cab03",
   "metadata": {},
   "outputs": [
    {
     "data": {
      "text/plain": [
       "0"
      ]
     },
     "execution_count": 44,
     "metadata": {},
     "output_type": "execute_result"
    }
   ],
   "source": [
    "df.annual_inc.isna().sum()"
   ]
  },
  {
   "cell_type": "code",
   "execution_count": 45,
   "id": "25de2130",
   "metadata": {
    "scrolled": true
   },
   "outputs": [
    {
     "data": {
      "text/plain": [
       "<AxesSubplot:xlabel='term', ylabel='count'>"
      ]
     },
     "execution_count": 45,
     "metadata": {},
     "output_type": "execute_result"
    }
   ],
   "source": [
    "df[[\"annual_inc\"]].boxplot()"
   ]
  },
  {
   "cell_type": "code",
   "execution_count": 46,
   "id": "863b80c6",
   "metadata": {},
   "outputs": [],
   "source": [
    "q1 = df[\"annual_inc\"].quantile(0.25)\n",
    "q3 = df[\"annual_inc\"].quantile(0.75)\n",
    "IQR = q3-q1\n",
    "upper_limit = q3 + 1.5*IQR\n",
    "df[\"annual_inc\"] = np.where(df[\"annual_inc\"] > upper_limit,upper_limit,df[\"annual_inc\"])"
   ]
  },
  {
   "cell_type": "code",
   "execution_count": 47,
   "id": "3e41fac4",
   "metadata": {},
   "outputs": [
    {
     "data": {
      "text/plain": [
       "<AxesSubplot:xlabel='term', ylabel='count'>"
      ]
     },
     "execution_count": 47,
     "metadata": {},
     "output_type": "execute_result"
    }
   ],
   "source": [
    "df[[\"annual_inc\"]].boxplot()"
   ]
  },
  {
   "cell_type": "markdown",
   "id": "924dbd03",
   "metadata": {},
   "source": [
    "### 7"
   ]
  },
  {
   "cell_type": "code",
   "execution_count": 48,
   "id": "47b1725c",
   "metadata": {
    "scrolled": true
   },
   "outputs": [
    {
     "data": {
      "text/plain": [
       "0                credit_card\n",
       "1                        car\n",
       "2             small_business\n",
       "3                      other\n",
       "4                    wedding\n",
       "                 ...        \n",
       "163982           credit_card\n",
       "163983      home_improvement\n",
       "163984    debt_consolidation\n",
       "163985           credit_card\n",
       "163986    debt_consolidation\n",
       "Name: purpose, Length: 163987, dtype: object"
      ]
     },
     "execution_count": 48,
     "metadata": {},
     "output_type": "execute_result"
    }
   ],
   "source": [
    "df.purpose"
   ]
  },
  {
   "cell_type": "code",
   "execution_count": 49,
   "id": "aaede574",
   "metadata": {},
   "outputs": [
    {
     "data": {
      "text/plain": [
       "14"
      ]
     },
     "execution_count": 49,
     "metadata": {},
     "output_type": "execute_result"
    }
   ],
   "source": [
    "df.purpose.nunique()"
   ]
  },
  {
   "cell_type": "code",
   "execution_count": 50,
   "id": "94a6da5c",
   "metadata": {},
   "outputs": [],
   "source": [
    "from sklearn.preprocessing import LabelEncoder"
   ]
  },
  {
   "cell_type": "code",
   "execution_count": 51,
   "id": "aa7cb65a",
   "metadata": {},
   "outputs": [],
   "source": [
    "label_enc = LabelEncoder()\n",
    "df[\"purpose\"] = label_enc.fit_transform(df[\"purpose\"])\n"
   ]
  },
  {
   "cell_type": "code",
   "execution_count": 52,
   "id": "a17f30f6",
   "metadata": {},
   "outputs": [
    {
     "data": {
      "text/plain": [
       "0          1\n",
       "1          0\n",
       "2         11\n",
       "3          9\n",
       "4         13\n",
       "          ..\n",
       "163982     1\n",
       "163983     4\n",
       "163984     2\n",
       "163985     1\n",
       "163986     2\n",
       "Name: purpose, Length: 163987, dtype: int32"
      ]
     },
     "execution_count": 52,
     "metadata": {},
     "output_type": "execute_result"
    }
   ],
   "source": [
    "df.purpose"
   ]
  },
  {
   "cell_type": "code",
   "execution_count": 53,
   "id": "64cd1286",
   "metadata": {},
   "outputs": [
    {
     "data": {
      "text/plain": [
       "14"
      ]
     },
     "execution_count": 53,
     "metadata": {},
     "output_type": "execute_result"
    }
   ],
   "source": [
    "df.purpose.nunique()"
   ]
  },
  {
   "cell_type": "code",
   "execution_count": 54,
   "id": "8e9182ae",
   "metadata": {},
   "outputs": [
    {
     "data": {
      "text/plain": [
       "array([ 1,  0, 11,  9, 13,  2,  4,  6,  7,  8, 12,  5, 10,  3])"
      ]
     },
     "execution_count": 54,
     "metadata": {},
     "output_type": "execute_result"
    }
   ],
   "source": [
    "df.purpose.unique()"
   ]
  },
  {
   "cell_type": "code",
   "execution_count": 55,
   "id": "43317f89",
   "metadata": {},
   "outputs": [
    {
     "data": {
      "text/plain": [
       "0"
      ]
     },
     "execution_count": 55,
     "metadata": {},
     "output_type": "execute_result"
    }
   ],
   "source": [
    "df.purpose.isna().sum()"
   ]
  },
  {
   "cell_type": "markdown",
   "id": "ef3365a6",
   "metadata": {},
   "source": [
    "### 8"
   ]
  },
  {
   "cell_type": "code",
   "execution_count": 56,
   "id": "2fefe56b",
   "metadata": {
    "scrolled": true
   },
   "outputs": [
    {
     "data": {
      "text/plain": [
       "0         AZ\n",
       "1         GA\n",
       "2         IL\n",
       "3         CA\n",
       "4         AZ\n",
       "          ..\n",
       "163982    OK\n",
       "163983    VA\n",
       "163984    TX\n",
       "163985    NY\n",
       "163986    PA\n",
       "Name: addr_state, Length: 163987, dtype: object"
      ]
     },
     "execution_count": 56,
     "metadata": {},
     "output_type": "execute_result"
    }
   ],
   "source": [
    "df.addr_state"
   ]
  },
  {
   "cell_type": "code",
   "execution_count": 57,
   "id": "809f80b2",
   "metadata": {},
   "outputs": [
    {
     "data": {
      "text/plain": [
       "50"
      ]
     },
     "execution_count": 57,
     "metadata": {},
     "output_type": "execute_result"
    }
   ],
   "source": [
    "df.addr_state.nunique()"
   ]
  },
  {
   "cell_type": "code",
   "execution_count": 58,
   "id": "175572bc",
   "metadata": {
    "scrolled": true
   },
   "outputs": [
    {
     "data": {
      "text/plain": [
       "{'CA': 28702,\n",
       " 'NY': 14285,\n",
       " 'TX': 12128,\n",
       " 'FL': 11396,\n",
       " 'NJ': 6457,\n",
       " 'IL': 6099,\n",
       " 'PA': 5427,\n",
       " 'VA': 5282,\n",
       " 'GA': 5189,\n",
       " 'OH': 4896,\n",
       " 'NC': 4393,\n",
       " 'MA': 4164,\n",
       " 'AZ': 3941,\n",
       " 'MD': 3890,\n",
       " 'WA': 3823,\n",
       " 'MI': 3762,\n",
       " 'CO': 3531,\n",
       " 'MN': 2771,\n",
       " 'MO': 2627,\n",
       " 'CT': 2563,\n",
       " 'NV': 2387,\n",
       " 'OR': 2149,\n",
       " 'WI': 1980,\n",
       " 'AL': 1965,\n",
       " 'LA': 1885,\n",
       " 'SC': 1826,\n",
       " 'KY': 1477,\n",
       " 'IN': 1463,\n",
       " 'UT': 1389,\n",
       " 'KS': 1335,\n",
       " 'OK': 1331,\n",
       " 'TN': 1327,\n",
       " 'AR': 1104,\n",
       " 'HI': 955,\n",
       " 'NM': 839,\n",
       " 'NH': 752,\n",
       " 'WV': 714,\n",
       " 'RI': 695,\n",
       " 'DC': 584,\n",
       " 'MT': 483,\n",
       " 'DE': 445,\n",
       " 'AK': 413,\n",
       " 'WY': 376,\n",
       " 'SD': 317,\n",
       " 'VT': 270,\n",
       " 'MS': 163,\n",
       " 'NE': 13,\n",
       " 'IA': 12,\n",
       " 'ID': 9,\n",
       " 'ME': 3}"
      ]
     },
     "execution_count": 58,
     "metadata": {},
     "output_type": "execute_result"
    }
   ],
   "source": [
    "df.addr_state.value_counts().to_dict()"
   ]
  },
  {
   "cell_type": "code",
   "execution_count": 59,
   "id": "a4396117",
   "metadata": {},
   "outputs": [],
   "source": [
    "label_enc = LabelEncoder()\n",
    "df[\"addr_state\"] = label_enc.fit_transform(df[\"addr_state\"])\n"
   ]
  },
  {
   "cell_type": "code",
   "execution_count": 60,
   "id": "1a12d08d",
   "metadata": {},
   "outputs": [
    {
     "data": {
      "text/plain": [
       "{4: 28702,\n",
       " 33: 14285,\n",
       " 42: 12128,\n",
       " 9: 11396,\n",
       " 30: 6457,\n",
       " 14: 6099,\n",
       " 37: 5427,\n",
       " 44: 5282,\n",
       " 10: 5189,\n",
       " 34: 4896,\n",
       " 27: 4393,\n",
       " 19: 4164,\n",
       " 3: 3941,\n",
       " 20: 3890,\n",
       " 46: 3823,\n",
       " 22: 3762,\n",
       " 5: 3531,\n",
       " 23: 2771,\n",
       " 24: 2627,\n",
       " 6: 2563,\n",
       " 32: 2387,\n",
       " 36: 2149,\n",
       " 47: 1980,\n",
       " 1: 1965,\n",
       " 18: 1885,\n",
       " 39: 1826,\n",
       " 17: 1477,\n",
       " 15: 1463,\n",
       " 43: 1389,\n",
       " 16: 1335,\n",
       " 35: 1331,\n",
       " 41: 1327,\n",
       " 2: 1104,\n",
       " 11: 955,\n",
       " 31: 839,\n",
       " 29: 752,\n",
       " 48: 714,\n",
       " 38: 695,\n",
       " 7: 584,\n",
       " 26: 483,\n",
       " 8: 445,\n",
       " 0: 413,\n",
       " 49: 376,\n",
       " 40: 317,\n",
       " 45: 270,\n",
       " 25: 163,\n",
       " 28: 13,\n",
       " 12: 12,\n",
       " 13: 9,\n",
       " 21: 3}"
      ]
     },
     "execution_count": 60,
     "metadata": {},
     "output_type": "execute_result"
    }
   ],
   "source": [
    "df.addr_state.value_counts().to_dict()"
   ]
  },
  {
   "cell_type": "code",
   "execution_count": 61,
   "id": "165c830b",
   "metadata": {},
   "outputs": [
    {
     "data": {
      "text/plain": [
       "0"
      ]
     },
     "execution_count": 61,
     "metadata": {},
     "output_type": "execute_result"
    }
   ],
   "source": [
    "df.addr_state.isna().sum()"
   ]
  },
  {
   "cell_type": "markdown",
   "id": "4978fcac",
   "metadata": {},
   "source": [
    "### 9"
   ]
  },
  {
   "cell_type": "code",
   "execution_count": 62,
   "id": "6a8aaacc",
   "metadata": {
    "scrolled": true
   },
   "outputs": [
    {
     "data": {
      "text/plain": [
       "0         27.65\n",
       "1          1.00\n",
       "2          8.72\n",
       "3         20.00\n",
       "4         11.20\n",
       "          ...  \n",
       "163982    31.44\n",
       "163983    23.65\n",
       "163984     9.03\n",
       "163985    10.10\n",
       "163986    31.70\n",
       "Name: dti, Length: 163987, dtype: float64"
      ]
     },
     "execution_count": 62,
     "metadata": {},
     "output_type": "execute_result"
    }
   ],
   "source": [
    "df.dti"
   ]
  },
  {
   "cell_type": "code",
   "execution_count": 63,
   "id": "6c442314",
   "metadata": {},
   "outputs": [
    {
     "data": {
      "text/plain": [
       "0"
      ]
     },
     "execution_count": 63,
     "metadata": {},
     "output_type": "execute_result"
    }
   ],
   "source": [
    "df.dti.isna().sum()"
   ]
  },
  {
   "cell_type": "code",
   "execution_count": 64,
   "id": "ef5f6f9a",
   "metadata": {},
   "outputs": [
    {
     "data": {
      "text/plain": [
       "<AxesSubplot:xlabel='term', ylabel='count'>"
      ]
     },
     "execution_count": 64,
     "metadata": {},
     "output_type": "execute_result"
    }
   ],
   "source": [
    "df[[\"dti\"]].boxplot()"
   ]
  },
  {
   "cell_type": "code",
   "execution_count": 65,
   "id": "d24e960c",
   "metadata": {},
   "outputs": [],
   "source": [
    "q1 = df[\"dti\"].quantile(0.25)\n",
    "q3 = df[\"dti\"].quantile(0.75)\n",
    "IQR = q3-q1\n",
    "upper_limit = q3 + 1.5*IQR\n",
    "df[\"dti\"] = np.where(df[\"dti\"] > upper_limit,upper_limit,df[\"dti\"])"
   ]
  },
  {
   "cell_type": "code",
   "execution_count": 66,
   "id": "62ed6147",
   "metadata": {},
   "outputs": [
    {
     "data": {
      "text/plain": [
       "<AxesSubplot:xlabel='term', ylabel='count'>"
      ]
     },
     "execution_count": 66,
     "metadata": {},
     "output_type": "execute_result"
    }
   ],
   "source": [
    "df[[\"dti\"]].boxplot()"
   ]
  },
  {
   "cell_type": "markdown",
   "id": "dab87c3d",
   "metadata": {},
   "source": [
    "### 10"
   ]
  },
  {
   "cell_type": "code",
   "execution_count": 67,
   "id": "806c9c65",
   "metadata": {
    "scrolled": true
   },
   "outputs": [
    {
     "data": {
      "text/plain": [
       "0         0.0\n",
       "1         0.0\n",
       "2         0.0\n",
       "3         0.0\n",
       "4         0.0\n",
       "         ... \n",
       "163982    4.0\n",
       "163983    0.0\n",
       "163984    0.0\n",
       "163985    1.0\n",
       "163986    0.0\n",
       "Name: delinq_2yrs, Length: 163987, dtype: float64"
      ]
     },
     "execution_count": 67,
     "metadata": {},
     "output_type": "execute_result"
    }
   ],
   "source": [
    "df.delinq_2yrs"
   ]
  },
  {
   "cell_type": "code",
   "execution_count": 68,
   "id": "5669bb1b",
   "metadata": {},
   "outputs": [
    {
     "data": {
      "text/plain": [
       "29"
      ]
     },
     "execution_count": 68,
     "metadata": {},
     "output_type": "execute_result"
    }
   ],
   "source": [
    "df.delinq_2yrs.isna().sum()"
   ]
  },
  {
   "cell_type": "code",
   "execution_count": 69,
   "id": "50e1742d",
   "metadata": {},
   "outputs": [
    {
     "data": {
      "text/plain": [
       "0.0     139459\n",
       "1.0      17158\n",
       "2.0       4635\n",
       "3.0       1488\n",
       "4.0        579\n",
       "5.0        310\n",
       "6.0        144\n",
       "7.0         68\n",
       "8.0         42\n",
       "9.0         26\n",
       "12.0        14\n",
       "10.0        12\n",
       "11.0        10\n",
       "14.0         4\n",
       "18.0         3\n",
       "13.0         2\n",
       "15.0         2\n",
       "29.0         1\n",
       "16.0         1\n",
       "Name: delinq_2yrs, dtype: int64"
      ]
     },
     "execution_count": 69,
     "metadata": {},
     "output_type": "execute_result"
    }
   ],
   "source": [
    "df.delinq_2yrs.value_counts()"
   ]
  },
  {
   "cell_type": "code",
   "execution_count": 70,
   "id": "61adeb7d",
   "metadata": {},
   "outputs": [],
   "source": [
    "df[\"delinq_2yrs\"] = df[\"delinq_2yrs\"].fillna(16)"
   ]
  },
  {
   "cell_type": "code",
   "execution_count": 71,
   "id": "f44b2447",
   "metadata": {},
   "outputs": [
    {
     "data": {
      "text/plain": [
       "0.0     139459\n",
       "1.0      17158\n",
       "2.0       4635\n",
       "3.0       1488\n",
       "4.0        579\n",
       "5.0        310\n",
       "6.0        144\n",
       "7.0         68\n",
       "8.0         42\n",
       "16.0        30\n",
       "9.0         26\n",
       "12.0        14\n",
       "10.0        12\n",
       "11.0        10\n",
       "14.0         4\n",
       "18.0         3\n",
       "13.0         2\n",
       "15.0         2\n",
       "29.0         1\n",
       "Name: delinq_2yrs, dtype: int64"
      ]
     },
     "execution_count": 71,
     "metadata": {},
     "output_type": "execute_result"
    }
   ],
   "source": [
    "df.delinq_2yrs.value_counts()"
   ]
  },
  {
   "cell_type": "code",
   "execution_count": 72,
   "id": "8caf25a3",
   "metadata": {},
   "outputs": [
    {
     "data": {
      "text/plain": [
       "<AxesSubplot:xlabel='term', ylabel='count'>"
      ]
     },
     "execution_count": 72,
     "metadata": {},
     "output_type": "execute_result"
    }
   ],
   "source": [
    "df[[\"delinq_2yrs\"]].boxplot()"
   ]
  },
  {
   "cell_type": "code",
   "execution_count": 73,
   "id": "df5048ea",
   "metadata": {},
   "outputs": [],
   "source": [
    "q1 = df[\"delinq_2yrs\"].quantile(0.25)\n",
    "q3 = df[\"delinq_2yrs\"].quantile(0.75)\n",
    "IQR = q3-q1\n",
    "upper_limit = q3 + 1.5*IQR\n",
    "df[\"delinq_2yrs\"] = np.where(df[\"delinq_2yrs\"] > upper_limit,upper_limit,df[\"delinq_2yrs\"])"
   ]
  },
  {
   "cell_type": "code",
   "execution_count": 74,
   "id": "c30da613",
   "metadata": {},
   "outputs": [
    {
     "data": {
      "text/plain": [
       "<AxesSubplot:xlabel='term', ylabel='count'>"
      ]
     },
     "execution_count": 74,
     "metadata": {},
     "output_type": "execute_result"
    }
   ],
   "source": [
    "df[[\"delinq_2yrs\"]].boxplot()"
   ]
  },
  {
   "cell_type": "markdown",
   "id": "fd6aa038",
   "metadata": {},
   "source": [
    "### 11"
   ]
  },
  {
   "cell_type": "code",
   "execution_count": 75,
   "id": "cf9b9349",
   "metadata": {
    "scrolled": true
   },
   "outputs": [
    {
     "data": {
      "text/plain": [
       "0         83.7\n",
       "1          9.4\n",
       "2         98.5\n",
       "3         21.0\n",
       "4         28.3\n",
       "          ... \n",
       "163982    75.8\n",
       "163983    68.8\n",
       "163984    70.7\n",
       "163985    61.2\n",
       "163986    54.0\n",
       "Name: revol_util, Length: 163987, dtype: float64"
      ]
     },
     "execution_count": 75,
     "metadata": {},
     "output_type": "execute_result"
    }
   ],
   "source": [
    "df.revol_util"
   ]
  },
  {
   "cell_type": "code",
   "execution_count": 76,
   "id": "945a2744",
   "metadata": {},
   "outputs": [
    {
     "data": {
      "text/plain": [
       "1170"
      ]
     },
     "execution_count": 76,
     "metadata": {},
     "output_type": "execute_result"
    }
   ],
   "source": [
    "df[\"revol_util\"].nunique()"
   ]
  },
  {
   "cell_type": "code",
   "execution_count": 77,
   "id": "f0d7640d",
   "metadata": {},
   "outputs": [
    {
     "data": {
      "text/plain": [
       "193"
      ]
     },
     "execution_count": 77,
     "metadata": {},
     "output_type": "execute_result"
    }
   ],
   "source": [
    "df[\"revol_util\"].isna().sum()"
   ]
  },
  {
   "cell_type": "code",
   "execution_count": 78,
   "id": "b453f0f3",
   "metadata": {},
   "outputs": [],
   "source": [
    "df[\"revol_util\"] = df[\"revol_util\"].fillna(df[\"revol_util\"].mean())"
   ]
  },
  {
   "cell_type": "code",
   "execution_count": 79,
   "id": "9247fff0",
   "metadata": {},
   "outputs": [
    {
     "data": {
      "text/plain": [
       "0"
      ]
     },
     "execution_count": 79,
     "metadata": {},
     "output_type": "execute_result"
    }
   ],
   "source": [
    "df[\"revol_util\"].isna().sum()"
   ]
  },
  {
   "cell_type": "code",
   "execution_count": 80,
   "id": "b303f6b2",
   "metadata": {},
   "outputs": [
    {
     "data": {
      "text/plain": [
       "<AxesSubplot:xlabel='term', ylabel='count'>"
      ]
     },
     "execution_count": 80,
     "metadata": {},
     "output_type": "execute_result"
    }
   ],
   "source": [
    "df[[\"revol_util\"]].boxplot()"
   ]
  },
  {
   "cell_type": "markdown",
   "id": "bc2054d3",
   "metadata": {},
   "source": [
    "### 12"
   ]
  },
  {
   "cell_type": "code",
   "execution_count": 81,
   "id": "9bea07c3",
   "metadata": {
    "scrolled": true
   },
   "outputs": [
    {
     "data": {
      "text/plain": [
       "0          9.0\n",
       "1          4.0\n",
       "2         10.0\n",
       "3         37.0\n",
       "4         12.0\n",
       "          ... \n",
       "163982    34.0\n",
       "163983    18.0\n",
       "163984    24.0\n",
       "163985    20.0\n",
       "163986    28.0\n",
       "Name: total_acc, Length: 163987, dtype: float64"
      ]
     },
     "execution_count": 81,
     "metadata": {},
     "output_type": "execute_result"
    }
   ],
   "source": [
    "df.total_acc"
   ]
  },
  {
   "cell_type": "code",
   "execution_count": 82,
   "id": "b94ff8dc",
   "metadata": {},
   "outputs": [
    {
     "data": {
      "text/plain": [
       "96"
      ]
     },
     "execution_count": 82,
     "metadata": {},
     "output_type": "execute_result"
    }
   ],
   "source": [
    "df[\"total_acc\"].nunique()"
   ]
  },
  {
   "cell_type": "code",
   "execution_count": 83,
   "id": "6ae6d2d3",
   "metadata": {},
   "outputs": [
    {
     "data": {
      "text/plain": [
       "29"
      ]
     },
     "execution_count": 83,
     "metadata": {},
     "output_type": "execute_result"
    }
   ],
   "source": [
    "df[\"total_acc\"].isna().sum()"
   ]
  },
  {
   "cell_type": "code",
   "execution_count": 84,
   "id": "25443a9b",
   "metadata": {},
   "outputs": [],
   "source": [
    "df[\"total_acc\"] = df[\"total_acc\"].fillna(df[\"total_acc\"].mean())"
   ]
  },
  {
   "cell_type": "code",
   "execution_count": 85,
   "id": "c33dd062",
   "metadata": {},
   "outputs": [
    {
     "data": {
      "text/plain": [
       "0"
      ]
     },
     "execution_count": 85,
     "metadata": {},
     "output_type": "execute_result"
    }
   ],
   "source": [
    "df[\"total_acc\"].isna().sum()"
   ]
  },
  {
   "cell_type": "code",
   "execution_count": 86,
   "id": "520fe9cd",
   "metadata": {},
   "outputs": [
    {
     "data": {
      "text/plain": [
       "<AxesSubplot:xlabel='term', ylabel='count'>"
      ]
     },
     "execution_count": 86,
     "metadata": {},
     "output_type": "execute_result"
    }
   ],
   "source": [
    "df[[\"total_acc\"]].boxplot()"
   ]
  },
  {
   "cell_type": "code",
   "execution_count": 87,
   "id": "c7c40659",
   "metadata": {},
   "outputs": [],
   "source": [
    "q1 = df[\"total_acc\"].quantile(0.25)\n",
    "q3 = df[\"total_acc\"].quantile(0.75)\n",
    "IQR = q3-q1\n",
    "upper_limit = q3 + 1.5*IQR\n",
    "df[\"total_acc\"] = np.where(df[\"total_acc\"] > upper_limit,upper_limit,df[\"total_acc\"])"
   ]
  },
  {
   "cell_type": "code",
   "execution_count": 88,
   "id": "296077dc",
   "metadata": {},
   "outputs": [
    {
     "data": {
      "text/plain": [
       "<AxesSubplot:xlabel='term', ylabel='count'>"
      ]
     },
     "execution_count": 88,
     "metadata": {},
     "output_type": "execute_result"
    }
   ],
   "source": [
    "df[[\"total_acc\"]].boxplot()"
   ]
  },
  {
   "cell_type": "markdown",
   "id": "ea9fc371",
   "metadata": {},
   "source": [
    "### 13"
   ]
  },
  {
   "cell_type": "code",
   "execution_count": 89,
   "id": "496c3228",
   "metadata": {
    "scrolled": true
   },
   "outputs": [
    {
     "data": {
      "text/plain": [
       "0         0\n",
       "1         1\n",
       "2         0\n",
       "3         0\n",
       "4         0\n",
       "         ..\n",
       "163982    0\n",
       "163983    0\n",
       "163984    0\n",
       "163985    0\n",
       "163986    0\n",
       "Name: bad_loan, Length: 163987, dtype: int64"
      ]
     },
     "execution_count": 89,
     "metadata": {},
     "output_type": "execute_result"
    }
   ],
   "source": [
    "df.bad_loan"
   ]
  },
  {
   "cell_type": "code",
   "execution_count": 90,
   "id": "b64b32ff",
   "metadata": {},
   "outputs": [
    {
     "data": {
      "text/plain": [
       "0"
      ]
     },
     "execution_count": 90,
     "metadata": {},
     "output_type": "execute_result"
    }
   ],
   "source": [
    "df.bad_loan.isna().sum()"
   ]
  },
  {
   "cell_type": "code",
   "execution_count": 91,
   "id": "dfe6c65e",
   "metadata": {},
   "outputs": [
    {
     "data": {
      "text/plain": [
       "0    133971\n",
       "1     30016\n",
       "Name: bad_loan, dtype: int64"
      ]
     },
     "execution_count": 91,
     "metadata": {},
     "output_type": "execute_result"
    }
   ],
   "source": [
    "df.bad_loan.value_counts()"
   ]
  },
  {
   "cell_type": "markdown",
   "id": "c7c3b7b1",
   "metadata": {},
   "source": [
    "### 14"
   ]
  },
  {
   "cell_type": "code",
   "execution_count": 92,
   "id": "9b17f6e5",
   "metadata": {
    "scrolled": true
   },
   "outputs": [
    {
     "data": {
      "text/plain": [
       "0         26.0\n",
       "1         12.0\n",
       "2         10.0\n",
       "3         15.0\n",
       "4          7.0\n",
       "          ... \n",
       "163982    20.0\n",
       "163983    22.0\n",
       "163984     9.0\n",
       "163985     6.0\n",
       "163986    16.0\n",
       "Name: longest_credit_length, Length: 163987, dtype: float64"
      ]
     },
     "execution_count": 92,
     "metadata": {},
     "output_type": "execute_result"
    }
   ],
   "source": [
    "df[\"longest_credit_length\"]"
   ]
  },
  {
   "cell_type": "code",
   "execution_count": 93,
   "id": "77f2e421",
   "metadata": {},
   "outputs": [
    {
     "data": {
      "text/plain": [
       "63"
      ]
     },
     "execution_count": 93,
     "metadata": {},
     "output_type": "execute_result"
    }
   ],
   "source": [
    "df[\"longest_credit_length\"].nunique()"
   ]
  },
  {
   "cell_type": "code",
   "execution_count": 94,
   "id": "1ab2d43f",
   "metadata": {},
   "outputs": [
    {
     "data": {
      "text/plain": [
       "29"
      ]
     },
     "execution_count": 94,
     "metadata": {},
     "output_type": "execute_result"
    }
   ],
   "source": [
    "df[\"longest_credit_length\"].isna().sum()"
   ]
  },
  {
   "cell_type": "code",
   "execution_count": 95,
   "id": "da03e665",
   "metadata": {},
   "outputs": [],
   "source": [
    "df[\"longest_credit_length\"] = df[\"longest_credit_length\"].fillna(df[\"longest_credit_length\"].mean())"
   ]
  },
  {
   "cell_type": "code",
   "execution_count": 96,
   "id": "bea3f2a5",
   "metadata": {},
   "outputs": [
    {
     "data": {
      "text/plain": [
       "0"
      ]
     },
     "execution_count": 96,
     "metadata": {},
     "output_type": "execute_result"
    }
   ],
   "source": [
    "df[\"longest_credit_length\"].isna().sum()"
   ]
  },
  {
   "cell_type": "code",
   "execution_count": 97,
   "id": "dc703ccc",
   "metadata": {},
   "outputs": [
    {
     "data": {
      "text/plain": [
       "<AxesSubplot:xlabel='term', ylabel='count'>"
      ]
     },
     "execution_count": 97,
     "metadata": {},
     "output_type": "execute_result"
    }
   ],
   "source": [
    "df[[\"longest_credit_length\"]].boxplot()"
   ]
  },
  {
   "cell_type": "code",
   "execution_count": 98,
   "id": "06ccec45",
   "metadata": {},
   "outputs": [],
   "source": [
    "q1 = df[\"longest_credit_length\"].quantile(0.25)\n",
    "q3 = df[\"longest_credit_length\"].quantile(0.75)\n",
    "IQR = q3-q1\n",
    "upper_limit = q3 + 1.5*IQR\n",
    "df[\"longest_credit_length\"] = np.where(df[\"longest_credit_length\"] > upper_limit,upper_limit,df[\"longest_credit_length\"])"
   ]
  },
  {
   "cell_type": "code",
   "execution_count": 99,
   "id": "7e5026ec",
   "metadata": {},
   "outputs": [
    {
     "data": {
      "text/plain": [
       "<AxesSubplot:xlabel='term', ylabel='count'>"
      ]
     },
     "execution_count": 99,
     "metadata": {},
     "output_type": "execute_result"
    }
   ],
   "source": [
    "df[[\"longest_credit_length\"]].boxplot()"
   ]
  },
  {
   "cell_type": "markdown",
   "id": "74241f5d",
   "metadata": {},
   "source": [
    "### 15"
   ]
  },
  {
   "cell_type": "code",
   "execution_count": 100,
   "id": "bb6da962",
   "metadata": {
    "scrolled": true
   },
   "outputs": [
    {
     "data": {
      "text/plain": [
       "0             verified\n",
       "1             verified\n",
       "2         not verified\n",
       "3             verified\n",
       "4             verified\n",
       "              ...     \n",
       "163982    not verified\n",
       "163983        verified\n",
       "163984    not verified\n",
       "163985        verified\n",
       "163986        verified\n",
       "Name: verification_status, Length: 163987, dtype: object"
      ]
     },
     "execution_count": 100,
     "metadata": {},
     "output_type": "execute_result"
    }
   ],
   "source": [
    "df.verification_status"
   ]
  },
  {
   "cell_type": "code",
   "execution_count": 101,
   "id": "a4a8172a",
   "metadata": {},
   "outputs": [
    {
     "data": {
      "text/plain": [
       "2"
      ]
     },
     "execution_count": 101,
     "metadata": {},
     "output_type": "execute_result"
    }
   ],
   "source": [
    "df.verification_status.nunique()"
   ]
  },
  {
   "cell_type": "code",
   "execution_count": 102,
   "id": "56cd8d82",
   "metadata": {},
   "outputs": [
    {
     "data": {
      "text/plain": [
       "0"
      ]
     },
     "execution_count": 102,
     "metadata": {},
     "output_type": "execute_result"
    }
   ],
   "source": [
    "df.verification_status.isna().sum()"
   ]
  },
  {
   "cell_type": "code",
   "execution_count": 103,
   "id": "a7a339cf",
   "metadata": {},
   "outputs": [
    {
     "data": {
      "text/plain": [
       "{'verified': 104832, 'not verified': 59155}"
      ]
     },
     "execution_count": 103,
     "metadata": {},
     "output_type": "execute_result"
    }
   ],
   "source": [
    "df.verification_status.value_counts().to_dict()"
   ]
  },
  {
   "cell_type": "code",
   "execution_count": 104,
   "id": "facacf4c",
   "metadata": {},
   "outputs": [],
   "source": [
    "df[\"verification_status\"].replace({'verified': 1, 'not verified': 0},inplace=True)"
   ]
  },
  {
   "cell_type": "code",
   "execution_count": 105,
   "id": "1f0bb1e7",
   "metadata": {},
   "outputs": [
    {
     "data": {
      "text/plain": [
       "0         1\n",
       "1         1\n",
       "2         0\n",
       "3         1\n",
       "4         1\n",
       "         ..\n",
       "163982    0\n",
       "163983    1\n",
       "163984    0\n",
       "163985    1\n",
       "163986    1\n",
       "Name: verification_status, Length: 163987, dtype: int64"
      ]
     },
     "execution_count": 105,
     "metadata": {},
     "output_type": "execute_result"
    }
   ],
   "source": [
    "df.verification_status"
   ]
  },
  {
   "cell_type": "code",
   "execution_count": 106,
   "id": "f2196a71",
   "metadata": {},
   "outputs": [
    {
     "data": {
      "text/html": [
       "<div>\n",
       "<style scoped>\n",
       "    .dataframe tbody tr th:only-of-type {\n",
       "        vertical-align: middle;\n",
       "    }\n",
       "\n",
       "    .dataframe tbody tr th {\n",
       "        vertical-align: top;\n",
       "    }\n",
       "\n",
       "    .dataframe thead th {\n",
       "        text-align: right;\n",
       "    }\n",
       "</style>\n",
       "<table border=\"1\" class=\"dataframe\">\n",
       "  <thead>\n",
       "    <tr style=\"text-align: right;\">\n",
       "      <th></th>\n",
       "      <th>loan_amnt</th>\n",
       "      <th>term</th>\n",
       "      <th>int_rate</th>\n",
       "      <th>emp_length</th>\n",
       "      <th>home_ownership</th>\n",
       "      <th>annual_inc</th>\n",
       "      <th>purpose</th>\n",
       "      <th>addr_state</th>\n",
       "      <th>dti</th>\n",
       "      <th>delinq_2yrs</th>\n",
       "      <th>revol_util</th>\n",
       "      <th>total_acc</th>\n",
       "      <th>bad_loan</th>\n",
       "      <th>longest_credit_length</th>\n",
       "      <th>verification_status</th>\n",
       "    </tr>\n",
       "  </thead>\n",
       "  <tbody>\n",
       "    <tr>\n",
       "      <th>0</th>\n",
       "      <td>5000</td>\n",
       "      <td>36</td>\n",
       "      <td>10.65</td>\n",
       "      <td>10.0</td>\n",
       "      <td>3</td>\n",
       "      <td>24000.0</td>\n",
       "      <td>1</td>\n",
       "      <td>3</td>\n",
       "      <td>27.65</td>\n",
       "      <td>0.0</td>\n",
       "      <td>83.7</td>\n",
       "      <td>9.0</td>\n",
       "      <td>0</td>\n",
       "      <td>26.0</td>\n",
       "      <td>1</td>\n",
       "    </tr>\n",
       "    <tr>\n",
       "      <th>1</th>\n",
       "      <td>2500</td>\n",
       "      <td>60</td>\n",
       "      <td>15.27</td>\n",
       "      <td>0.0</td>\n",
       "      <td>3</td>\n",
       "      <td>30000.0</td>\n",
       "      <td>0</td>\n",
       "      <td>10</td>\n",
       "      <td>1.00</td>\n",
       "      <td>0.0</td>\n",
       "      <td>9.4</td>\n",
       "      <td>4.0</td>\n",
       "      <td>1</td>\n",
       "      <td>12.0</td>\n",
       "      <td>1</td>\n",
       "    </tr>\n",
       "    <tr>\n",
       "      <th>2</th>\n",
       "      <td>2400</td>\n",
       "      <td>36</td>\n",
       "      <td>15.96</td>\n",
       "      <td>10.0</td>\n",
       "      <td>3</td>\n",
       "      <td>12252.0</td>\n",
       "      <td>11</td>\n",
       "      <td>14</td>\n",
       "      <td>8.72</td>\n",
       "      <td>0.0</td>\n",
       "      <td>98.5</td>\n",
       "      <td>10.0</td>\n",
       "      <td>0</td>\n",
       "      <td>10.0</td>\n",
       "      <td>0</td>\n",
       "    </tr>\n",
       "    <tr>\n",
       "      <th>3</th>\n",
       "      <td>10000</td>\n",
       "      <td>36</td>\n",
       "      <td>13.49</td>\n",
       "      <td>10.0</td>\n",
       "      <td>3</td>\n",
       "      <td>49200.0</td>\n",
       "      <td>9</td>\n",
       "      <td>4</td>\n",
       "      <td>20.00</td>\n",
       "      <td>0.0</td>\n",
       "      <td>21.0</td>\n",
       "      <td>37.0</td>\n",
       "      <td>0</td>\n",
       "      <td>15.0</td>\n",
       "      <td>1</td>\n",
       "    </tr>\n",
       "    <tr>\n",
       "      <th>4</th>\n",
       "      <td>5000</td>\n",
       "      <td>36</td>\n",
       "      <td>7.90</td>\n",
       "      <td>3.0</td>\n",
       "      <td>3</td>\n",
       "      <td>36000.0</td>\n",
       "      <td>13</td>\n",
       "      <td>3</td>\n",
       "      <td>11.20</td>\n",
       "      <td>0.0</td>\n",
       "      <td>28.3</td>\n",
       "      <td>12.0</td>\n",
       "      <td>0</td>\n",
       "      <td>7.0</td>\n",
       "      <td>1</td>\n",
       "    </tr>\n",
       "    <tr>\n",
       "      <th>...</th>\n",
       "      <td>...</td>\n",
       "      <td>...</td>\n",
       "      <td>...</td>\n",
       "      <td>...</td>\n",
       "      <td>...</td>\n",
       "      <td>...</td>\n",
       "      <td>...</td>\n",
       "      <td>...</td>\n",
       "      <td>...</td>\n",
       "      <td>...</td>\n",
       "      <td>...</td>\n",
       "      <td>...</td>\n",
       "      <td>...</td>\n",
       "      <td>...</td>\n",
       "      <td>...</td>\n",
       "    </tr>\n",
       "    <tr>\n",
       "      <th>163982</th>\n",
       "      <td>15000</td>\n",
       "      <td>60</td>\n",
       "      <td>12.39</td>\n",
       "      <td>3.0</td>\n",
       "      <td>4</td>\n",
       "      <td>45000.0</td>\n",
       "      <td>1</td>\n",
       "      <td>35</td>\n",
       "      <td>31.44</td>\n",
       "      <td>0.0</td>\n",
       "      <td>75.8</td>\n",
       "      <td>34.0</td>\n",
       "      <td>0</td>\n",
       "      <td>20.0</td>\n",
       "      <td>0</td>\n",
       "    </tr>\n",
       "    <tr>\n",
       "      <th>163983</th>\n",
       "      <td>20000</td>\n",
       "      <td>36</td>\n",
       "      <td>14.99</td>\n",
       "      <td>10.0</td>\n",
       "      <td>5</td>\n",
       "      <td>80000.0</td>\n",
       "      <td>4</td>\n",
       "      <td>44</td>\n",
       "      <td>23.65</td>\n",
       "      <td>0.0</td>\n",
       "      <td>68.8</td>\n",
       "      <td>18.0</td>\n",
       "      <td>0</td>\n",
       "      <td>22.0</td>\n",
       "      <td>1</td>\n",
       "    </tr>\n",
       "    <tr>\n",
       "      <th>163984</th>\n",
       "      <td>12825</td>\n",
       "      <td>36</td>\n",
       "      <td>17.14</td>\n",
       "      <td>6.0</td>\n",
       "      <td>4</td>\n",
       "      <td>38000.0</td>\n",
       "      <td>2</td>\n",
       "      <td>42</td>\n",
       "      <td>9.03</td>\n",
       "      <td>0.0</td>\n",
       "      <td>70.7</td>\n",
       "      <td>24.0</td>\n",
       "      <td>0</td>\n",
       "      <td>9.0</td>\n",
       "      <td>0</td>\n",
       "    </tr>\n",
       "    <tr>\n",
       "      <th>163985</th>\n",
       "      <td>27650</td>\n",
       "      <td>60</td>\n",
       "      <td>21.99</td>\n",
       "      <td>0.0</td>\n",
       "      <td>3</td>\n",
       "      <td>60000.0</td>\n",
       "      <td>1</td>\n",
       "      <td>33</td>\n",
       "      <td>10.10</td>\n",
       "      <td>0.0</td>\n",
       "      <td>61.2</td>\n",
       "      <td>20.0</td>\n",
       "      <td>0</td>\n",
       "      <td>6.0</td>\n",
       "      <td>1</td>\n",
       "    </tr>\n",
       "    <tr>\n",
       "      <th>163986</th>\n",
       "      <td>17000</td>\n",
       "      <td>60</td>\n",
       "      <td>15.99</td>\n",
       "      <td>10.0</td>\n",
       "      <td>4</td>\n",
       "      <td>63078.0</td>\n",
       "      <td>2</td>\n",
       "      <td>37</td>\n",
       "      <td>31.70</td>\n",
       "      <td>0.0</td>\n",
       "      <td>54.0</td>\n",
       "      <td>28.0</td>\n",
       "      <td>0</td>\n",
       "      <td>16.0</td>\n",
       "      <td>1</td>\n",
       "    </tr>\n",
       "  </tbody>\n",
       "</table>\n",
       "<p>163987 rows × 15 columns</p>\n",
       "</div>"
      ],
      "text/plain": [
       "        loan_amnt  term  int_rate  emp_length  home_ownership  annual_inc  \\\n",
       "0            5000    36     10.65        10.0               3     24000.0   \n",
       "1            2500    60     15.27         0.0               3     30000.0   \n",
       "2            2400    36     15.96        10.0               3     12252.0   \n",
       "3           10000    36     13.49        10.0               3     49200.0   \n",
       "4            5000    36      7.90         3.0               3     36000.0   \n",
       "...           ...   ...       ...         ...             ...         ...   \n",
       "163982      15000    60     12.39         3.0               4     45000.0   \n",
       "163983      20000    36     14.99        10.0               5     80000.0   \n",
       "163984      12825    36     17.14         6.0               4     38000.0   \n",
       "163985      27650    60     21.99         0.0               3     60000.0   \n",
       "163986      17000    60     15.99        10.0               4     63078.0   \n",
       "\n",
       "        purpose  addr_state    dti  delinq_2yrs  revol_util  total_acc  \\\n",
       "0             1           3  27.65          0.0        83.7        9.0   \n",
       "1             0          10   1.00          0.0         9.4        4.0   \n",
       "2            11          14   8.72          0.0        98.5       10.0   \n",
       "3             9           4  20.00          0.0        21.0       37.0   \n",
       "4            13           3  11.20          0.0        28.3       12.0   \n",
       "...         ...         ...    ...          ...         ...        ...   \n",
       "163982        1          35  31.44          0.0        75.8       34.0   \n",
       "163983        4          44  23.65          0.0        68.8       18.0   \n",
       "163984        2          42   9.03          0.0        70.7       24.0   \n",
       "163985        1          33  10.10          0.0        61.2       20.0   \n",
       "163986        2          37  31.70          0.0        54.0       28.0   \n",
       "\n",
       "        bad_loan  longest_credit_length  verification_status  \n",
       "0              0                   26.0                    1  \n",
       "1              1                   12.0                    1  \n",
       "2              0                   10.0                    0  \n",
       "3              0                   15.0                    1  \n",
       "4              0                    7.0                    1  \n",
       "...          ...                    ...                  ...  \n",
       "163982         0                   20.0                    0  \n",
       "163983         0                   22.0                    1  \n",
       "163984         0                    9.0                    0  \n",
       "163985         0                    6.0                    1  \n",
       "163986         0                   16.0                    1  \n",
       "\n",
       "[163987 rows x 15 columns]"
      ]
     },
     "execution_count": 106,
     "metadata": {},
     "output_type": "execute_result"
    }
   ],
   "source": [
    "df"
   ]
  },
  {
   "cell_type": "code",
   "execution_count": 107,
   "id": "ffed7758",
   "metadata": {},
   "outputs": [
    {
     "name": "stdout",
     "output_type": "stream",
     "text": [
      "<class 'pandas.core.frame.DataFrame'>\n",
      "RangeIndex: 163987 entries, 0 to 163986\n",
      "Data columns (total 15 columns):\n",
      " #   Column                 Non-Null Count   Dtype  \n",
      "---  ------                 --------------   -----  \n",
      " 0   loan_amnt              163987 non-null  int64  \n",
      " 1   term                   163987 non-null  int32  \n",
      " 2   int_rate               163987 non-null  float64\n",
      " 3   emp_length             163987 non-null  float64\n",
      " 4   home_ownership         163987 non-null  int64  \n",
      " 5   annual_inc             163987 non-null  float64\n",
      " 6   purpose                163987 non-null  int32  \n",
      " 7   addr_state             163987 non-null  int32  \n",
      " 8   dti                    163987 non-null  float64\n",
      " 9   delinq_2yrs            163987 non-null  float64\n",
      " 10  revol_util             163987 non-null  float64\n",
      " 11  total_acc              163987 non-null  float64\n",
      " 12  bad_loan               163987 non-null  int64  \n",
      " 13  longest_credit_length  163987 non-null  float64\n",
      " 14  verification_status    163987 non-null  int64  \n",
      "dtypes: float64(8), int32(3), int64(4)\n",
      "memory usage: 16.9 MB\n"
     ]
    }
   ],
   "source": [
    "df.info()"
   ]
  },
  {
   "cell_type": "markdown",
   "id": "49d1601f",
   "metadata": {},
   "source": [
    "# Feature selection"
   ]
  },
  {
   "cell_type": "code",
   "execution_count": 108,
   "id": "4aff051d",
   "metadata": {},
   "outputs": [],
   "source": [
    "x = df.drop(\"bad_loan\",axis = 1)\n",
    "y = df[\"bad_loan\"]"
   ]
  },
  {
   "cell_type": "markdown",
   "id": "3d0fc74d",
   "metadata": {},
   "source": [
    "# spliting"
   ]
  },
  {
   "cell_type": "code",
   "execution_count": 109,
   "id": "37b81a62",
   "metadata": {},
   "outputs": [],
   "source": [
    "x_train,x_test,y_train,y_test = train_test_split(x,y,test_size=0.2,random_state=1,stratify=y)"
   ]
  },
  {
   "cell_type": "code",
   "execution_count": 110,
   "id": "eef22a1e",
   "metadata": {},
   "outputs": [
    {
     "data": {
      "text/plain": [
       "0    107176\n",
       "1     24013\n",
       "Name: bad_loan, dtype: int64"
      ]
     },
     "execution_count": 110,
     "metadata": {},
     "output_type": "execute_result"
    }
   ],
   "source": [
    "y_train.value_counts()"
   ]
  },
  {
   "cell_type": "code",
   "execution_count": 111,
   "id": "0661922c",
   "metadata": {},
   "outputs": [
    {
     "data": {
      "text/plain": [
       "0    0.816959\n",
       "1    0.183041\n",
       "Name: bad_loan, dtype: float64"
      ]
     },
     "execution_count": 111,
     "metadata": {},
     "output_type": "execute_result"
    }
   ],
   "source": [
    "y_train.value_counts(normalize=True)"
   ]
  },
  {
   "cell_type": "code",
   "execution_count": 112,
   "id": "33bc3dcd",
   "metadata": {},
   "outputs": [
    {
     "data": {
      "text/plain": [
       "0    26795\n",
       "1     6003\n",
       "Name: bad_loan, dtype: int64"
      ]
     },
     "execution_count": 112,
     "metadata": {},
     "output_type": "execute_result"
    }
   ],
   "source": [
    "y_test.value_counts()"
   ]
  },
  {
   "cell_type": "code",
   "execution_count": 113,
   "id": "1ffa9a63",
   "metadata": {},
   "outputs": [
    {
     "data": {
      "text/plain": [
       "0    0.816971\n",
       "1    0.183029\n",
       "Name: bad_loan, dtype: float64"
      ]
     },
     "execution_count": 113,
     "metadata": {},
     "output_type": "execute_result"
    }
   ],
   "source": [
    "y_test.value_counts(normalize=True)"
   ]
  },
  {
   "cell_type": "markdown",
   "id": "18ef28a4",
   "metadata": {},
   "source": [
    "# Model Building"
   ]
  },
  {
   "cell_type": "code",
   "execution_count": 114,
   "id": "39114997",
   "metadata": {},
   "outputs": [
    {
     "data": {
      "text/plain": [
       "RandomForestClassifier(n_estimators=30, random_state=1)"
      ]
     },
     "execution_count": 114,
     "metadata": {},
     "output_type": "execute_result"
    }
   ],
   "source": [
    "rf_model = RandomForestClassifier(n_estimators=30,random_state=1)\n",
    "rf_model.fit(x_train,y_train)"
   ]
  },
  {
   "cell_type": "markdown",
   "id": "88ebdac0",
   "metadata": {},
   "source": [
    "# Test Acc"
   ]
  },
  {
   "cell_type": "code",
   "execution_count": 115,
   "id": "559abc20",
   "metadata": {},
   "outputs": [
    {
     "name": "stdout",
     "output_type": "stream",
     "text": [
      "Accuracy of Test Data: 0.8160253674004513\n",
      "\n",
      "Confusion Marix :\n",
      " [[26436   359]\n",
      " [ 5675   328]]\n",
      "\n",
      "Classification Repoet:\n",
      "               precision    recall  f1-score   support\n",
      "\n",
      "           0       0.82      0.99      0.90     26795\n",
      "           1       0.48      0.05      0.10      6003\n",
      "\n",
      "    accuracy                           0.82     32798\n",
      "   macro avg       0.65      0.52      0.50     32798\n",
      "weighted avg       0.76      0.82      0.75     32798\n",
      "\n"
     ]
    }
   ],
   "source": [
    "y_pred = rf_model.predict(x_test)\n",
    "Accuracy = accuracy_score(y_test,y_pred)\n",
    "print(\"Accuracy of Test Data:\",Accuracy)\n",
    "print()\n",
    "cnf_mat  = confusion_matrix(y_test,y_pred)\n",
    "print(\"Confusion Marix :\\n\",cnf_mat)\n",
    "print()\n",
    "clf_Rep = classification_report(y_test,y_pred)\n",
    "print(\"Classification Repoet:\\n\",clf_Rep)"
   ]
  },
  {
   "cell_type": "markdown",
   "id": "9331f7ed",
   "metadata": {},
   "source": [
    "# Oversampling and Undersampling"
   ]
  },
  {
   "cell_type": "code",
   "execution_count": 116,
   "id": "37d75d44",
   "metadata": {},
   "outputs": [],
   "source": [
    "# !pip install -U imbalanced-learn\n",
    "# !pip install imblearn\n",
    "# !pip install imblearn\n",
    "# !pip install -c glemaitre imbalanced-learn\n",
    "# !pip install imblearn==0.0\n"
   ]
  },
  {
   "cell_type": "markdown",
   "id": "f8434ad6",
   "metadata": {},
   "source": [
    "## Undersampling"
   ]
  },
  {
   "cell_type": "code",
   "execution_count": 117,
   "id": "c8a7ad71",
   "metadata": {},
   "outputs": [],
   "source": [
    "from imblearn.under_sampling import NearMiss, RandomUnderSampler"
   ]
  },
  {
   "cell_type": "markdown",
   "id": "723a7544",
   "metadata": {},
   "source": [
    "### 1"
   ]
  },
  {
   "cell_type": "code",
   "execution_count": 119,
   "id": "c10061e8",
   "metadata": {},
   "outputs": [
    {
     "name": "stdout",
     "output_type": "stream",
     "text": [
      "0    107176\n",
      "1     24013\n",
      "Name: bad_loan, dtype: int64\n",
      "0    24013\n",
      "1    24013\n",
      "Name: bad_loan, dtype: int64\n"
     ]
    }
   ],
   "source": [
    "ns = NearMiss()\n",
    "x_train_ns , y_train_ns = ns.fit_resample(x_train,y_train)\n",
    "print(y_train.value_counts())\n",
    "print(y_train_ns.value_counts())"
   ]
  },
  {
   "cell_type": "code",
   "execution_count": 121,
   "id": "5ec300d4",
   "metadata": {},
   "outputs": [
    {
     "data": {
      "text/plain": [
       "RandomForestClassifier(n_estimators=30, random_state=1)"
      ]
     },
     "execution_count": 121,
     "metadata": {},
     "output_type": "execute_result"
    }
   ],
   "source": [
    "rf_model = RandomForestClassifier(n_estimators=30,random_state=1)\n",
    "rf_model.fit(x_train_ns,y_train_ns)"
   ]
  },
  {
   "cell_type": "markdown",
   "id": "88ebdac0",
   "metadata": {},
   "source": [
    "# Test Acc"
   ]
  },
  {
   "cell_type": "code",
   "execution_count": 122,
   "id": "559abc20",
   "metadata": {},
   "outputs": [
    {
     "name": "stdout",
     "output_type": "stream",
     "text": [
      "Accuracy of Test Data: 0.5251234831392158\n",
      "\n",
      "Confusion Marix :\n",
      " [[13102 13693]\n",
      " [ 1882  4121]]\n",
      "\n",
      "Classification Repoet:\n",
      "               precision    recall  f1-score   support\n",
      "\n",
      "           0       0.87      0.49      0.63     26795\n",
      "           1       0.23      0.69      0.35      6003\n",
      "\n",
      "    accuracy                           0.53     32798\n",
      "   macro avg       0.55      0.59      0.49     32798\n",
      "weighted avg       0.76      0.53      0.58     32798\n",
      "\n"
     ]
    }
   ],
   "source": [
    "y_pred = rf_model.predict(x_test)\n",
    "Accuracy = accuracy_score(y_test,y_pred)\n",
    "print(\"Accuracy of Test Data:\",Accuracy)\n",
    "print()\n",
    "cnf_mat  = confusion_matrix(y_test,y_pred)\n",
    "print(\"Confusion Marix :\\n\",cnf_mat)\n",
    "print()\n",
    "clf_Rep = classification_report(y_test,y_pred)\n",
    "print(\"Classification Repoet:\\n\",clf_Rep)"
   ]
  },
  {
   "cell_type": "markdown",
   "id": "dd0f454f",
   "metadata": {},
   "source": [
    "### 2"
   ]
  },
  {
   "cell_type": "code",
   "execution_count": 124,
   "id": "d23fba2b",
   "metadata": {},
   "outputs": [
    {
     "name": "stdout",
     "output_type": "stream",
     "text": [
      "0    107176\n",
      "1     24013\n",
      "Name: bad_loan, dtype: int64\n",
      "0    24013\n",
      "1    24013\n",
      "Name: bad_loan, dtype: int64\n"
     ]
    }
   ],
   "source": [
    "ru = RandomUnderSampler()\n",
    "x_train_ru , y_train_ru = ru.fit_resample(x_train,y_train)\n",
    "print(y_train.value_counts())\n",
    "print(y_train_ru.value_counts())"
   ]
  },
  {
   "cell_type": "code",
   "execution_count": 125,
   "id": "39114997",
   "metadata": {},
   "outputs": [
    {
     "data": {
      "text/plain": [
       "RandomForestClassifier(n_estimators=30, random_state=1)"
      ]
     },
     "execution_count": 125,
     "metadata": {},
     "output_type": "execute_result"
    }
   ],
   "source": [
    "rf_model = RandomForestClassifier(n_estimators=30,random_state=1)\n",
    "rf_model.fit(x_train_ru,y_train_ru)"
   ]
  },
  {
   "cell_type": "markdown",
   "id": "88ebdac0",
   "metadata": {},
   "source": [
    "# Test Acc"
   ]
  },
  {
   "cell_type": "code",
   "execution_count": 126,
   "id": "559abc20",
   "metadata": {},
   "outputs": [
    {
     "name": "stdout",
     "output_type": "stream",
     "text": [
      "Accuracy of Test Data: 0.6449173730105494\n",
      "\n",
      "Confusion Marix :\n",
      " [[17465  9330]\n",
      " [ 2316  3687]]\n",
      "\n",
      "Classification Repoet:\n",
      "               precision    recall  f1-score   support\n",
      "\n",
      "           0       0.88      0.65      0.75     26795\n",
      "           1       0.28      0.61      0.39      6003\n",
      "\n",
      "    accuracy                           0.64     32798\n",
      "   macro avg       0.58      0.63      0.57     32798\n",
      "weighted avg       0.77      0.64      0.68     32798\n",
      "\n"
     ]
    }
   ],
   "source": [
    "y_pred = rf_model.predict(x_test)\n",
    "Accuracy = accuracy_score(y_test,y_pred)\n",
    "print(\"Accuracy of Test Data:\",Accuracy)\n",
    "print()\n",
    "cnf_mat  = confusion_matrix(y_test,y_pred)\n",
    "print(\"Confusion Marix :\\n\",cnf_mat)\n",
    "print()\n",
    "clf_Rep = classification_report(y_test,y_pred)\n",
    "print(\"Classification Repoet:\\n\",clf_Rep)"
   ]
  },
  {
   "cell_type": "markdown",
   "id": "fc862603",
   "metadata": {},
   "source": [
    "## Oversampling"
   ]
  },
  {
   "cell_type": "code",
   "execution_count": 127,
   "id": "0d3c2c43",
   "metadata": {},
   "outputs": [],
   "source": [
    "from imblearn.combine import SMOTETomek\n",
    "from imblearn.over_sampling import RandomOverSampler,ADASYN,SMOTE"
   ]
  },
  {
   "cell_type": "markdown",
   "id": "2b59fe0f",
   "metadata": {},
   "source": [
    "### 1"
   ]
  },
  {
   "cell_type": "code",
   "execution_count": 128,
   "id": "f5ae048c",
   "metadata": {},
   "outputs": [
    {
     "name": "stdout",
     "output_type": "stream",
     "text": [
      "0    107176\n",
      "1     24013\n",
      "Name: bad_loan, dtype: int64\n",
      "0    107176\n",
      "1    107176\n",
      "Name: bad_loan, dtype: int64\n"
     ]
    }
   ],
   "source": [
    "ro = RandomOverSampler()\n",
    "x_train_ro , y_train_ro = ro.fit_resample(x_train,y_train)\n",
    "print(y_train.value_counts())\n",
    "print(y_train_ro.value_counts())"
   ]
  },
  {
   "cell_type": "code",
   "execution_count": 129,
   "id": "39114997",
   "metadata": {},
   "outputs": [
    {
     "data": {
      "text/plain": [
       "RandomForestClassifier(n_estimators=30, random_state=1)"
      ]
     },
     "execution_count": 129,
     "metadata": {},
     "output_type": "execute_result"
    }
   ],
   "source": [
    "rf_model = RandomForestClassifier(n_estimators=30,random_state=1)\n",
    "rf_model.fit(x_train_ro,y_train_ro)"
   ]
  },
  {
   "cell_type": "markdown",
   "id": "88ebdac0",
   "metadata": {},
   "source": [
    "# Test Acc"
   ]
  },
  {
   "cell_type": "code",
   "execution_count": 130,
   "id": "559abc20",
   "metadata": {},
   "outputs": [
    {
     "name": "stdout",
     "output_type": "stream",
     "text": [
      "Accuracy of Test Data: 0.8085249100554912\n",
      "\n",
      "Confusion Marix :\n",
      " [[25722  1073]\n",
      " [ 5207   796]]\n",
      "\n",
      "Classification Repoet:\n",
      "               precision    recall  f1-score   support\n",
      "\n",
      "           0       0.83      0.96      0.89     26795\n",
      "           1       0.43      0.13      0.20      6003\n",
      "\n",
      "    accuracy                           0.81     32798\n",
      "   macro avg       0.63      0.55      0.55     32798\n",
      "weighted avg       0.76      0.81      0.77     32798\n",
      "\n"
     ]
    }
   ],
   "source": [
    "y_pred = rf_model.predict(x_test)\n",
    "Accuracy = accuracy_score(y_test,y_pred)\n",
    "print(\"Accuracy of Test Data:\",Accuracy)\n",
    "print()\n",
    "cnf_mat  = confusion_matrix(y_test,y_pred)\n",
    "print(\"Confusion Marix :\\n\",cnf_mat)\n",
    "print()\n",
    "clf_Rep = classification_report(y_test,y_pred)\n",
    "print(\"Classification Repoet:\\n\",clf_Rep)"
   ]
  },
  {
   "cell_type": "markdown",
   "id": "62832931",
   "metadata": {},
   "source": [
    "## 2"
   ]
  },
  {
   "cell_type": "code",
   "execution_count": 131,
   "id": "e186d382",
   "metadata": {},
   "outputs": [
    {
     "name": "stdout",
     "output_type": "stream",
     "text": [
      "0    107176\n",
      "1     24013\n",
      "Name: bad_loan, dtype: int64\n",
      "1    110151\n",
      "0    107176\n",
      "Name: bad_loan, dtype: int64\n"
     ]
    }
   ],
   "source": [
    "ad = ADASYN()\n",
    "x_train_ad , y_train_ad = ad.fit_resample(x_train,y_train)\n",
    "print(y_train.value_counts())\n",
    "print(y_train_ad.value_counts())"
   ]
  },
  {
   "cell_type": "code",
   "execution_count": 132,
   "id": "39114997",
   "metadata": {},
   "outputs": [
    {
     "data": {
      "text/plain": [
       "RandomForestClassifier(n_estimators=30, random_state=1)"
      ]
     },
     "execution_count": 132,
     "metadata": {},
     "output_type": "execute_result"
    }
   ],
   "source": [
    "rf_model = RandomForestClassifier(n_estimators=30,random_state=1)\n",
    "rf_model.fit(x_train_ad,y_train_ad)"
   ]
  },
  {
   "cell_type": "markdown",
   "id": "88ebdac0",
   "metadata": {},
   "source": [
    "# Test Acc"
   ]
  },
  {
   "cell_type": "code",
   "execution_count": 133,
   "id": "559abc20",
   "metadata": {},
   "outputs": [
    {
     "name": "stdout",
     "output_type": "stream",
     "text": [
      "Accuracy of Test Data: 0.773187389474968\n",
      "\n",
      "Confusion Marix :\n",
      " [[24080  2715]\n",
      " [ 4724  1279]]\n",
      "\n",
      "Classification Repoet:\n",
      "               precision    recall  f1-score   support\n",
      "\n",
      "           0       0.84      0.90      0.87     26795\n",
      "           1       0.32      0.21      0.26      6003\n",
      "\n",
      "    accuracy                           0.77     32798\n",
      "   macro avg       0.58      0.56      0.56     32798\n",
      "weighted avg       0.74      0.77      0.75     32798\n",
      "\n"
     ]
    }
   ],
   "source": [
    "y_pred = rf_model.predict(x_test)\n",
    "Accuracy = accuracy_score(y_test,y_pred)\n",
    "print(\"Accuracy of Test Data:\",Accuracy)\n",
    "print()\n",
    "cnf_mat  = confusion_matrix(y_test,y_pred)\n",
    "print(\"Confusion Marix :\\n\",cnf_mat)\n",
    "print()\n",
    "clf_Rep = classification_report(y_test,y_pred)\n",
    "print(\"Classification Repoet:\\n\",clf_Rep)"
   ]
  },
  {
   "cell_type": "markdown",
   "id": "d27db091",
   "metadata": {},
   "source": [
    "## 3"
   ]
  },
  {
   "cell_type": "code",
   "execution_count": 134,
   "id": "8a98ccd2",
   "metadata": {},
   "outputs": [
    {
     "name": "stdout",
     "output_type": "stream",
     "text": [
      "0    107176\n",
      "1     24013\n",
      "Name: bad_loan, dtype: int64\n",
      "0    107176\n",
      "1    107176\n",
      "Name: bad_loan, dtype: int64\n"
     ]
    }
   ],
   "source": [
    "sm = SMOTE()\n",
    "x_train_sm , y_train_sm = sm.fit_resample(x_train,y_train)\n",
    "print(y_train.value_counts())\n",
    "print(y_train_sm.value_counts())"
   ]
  },
  {
   "cell_type": "code",
   "execution_count": 135,
   "id": "39114997",
   "metadata": {},
   "outputs": [
    {
     "data": {
      "text/plain": [
       "RandomForestClassifier(n_estimators=30, random_state=1)"
      ]
     },
     "execution_count": 135,
     "metadata": {},
     "output_type": "execute_result"
    }
   ],
   "source": [
    "rf_model = RandomForestClassifier(n_estimators=30,random_state=1)\n",
    "rf_model.fit(x_train_sm,y_train_sm)"
   ]
  },
  {
   "cell_type": "markdown",
   "id": "88ebdac0",
   "metadata": {},
   "source": [
    "# Test Acc"
   ]
  },
  {
   "cell_type": "code",
   "execution_count": 136,
   "id": "559abc20",
   "metadata": {},
   "outputs": [
    {
     "name": "stdout",
     "output_type": "stream",
     "text": [
      "Accuracy of Test Data: 0.7762058662113543\n",
      "\n",
      "Confusion Marix :\n",
      " [[24191  2604]\n",
      " [ 4736  1267]]\n",
      "\n",
      "Classification Repoet:\n",
      "               precision    recall  f1-score   support\n",
      "\n",
      "           0       0.84      0.90      0.87     26795\n",
      "           1       0.33      0.21      0.26      6003\n",
      "\n",
      "    accuracy                           0.78     32798\n",
      "   macro avg       0.58      0.56      0.56     32798\n",
      "weighted avg       0.74      0.78      0.76     32798\n",
      "\n"
     ]
    }
   ],
   "source": [
    "y_pred = rf_model.predict(x_test)\n",
    "Accuracy = accuracy_score(y_test,y_pred)\n",
    "print(\"Accuracy of Test Data:\",Accuracy)\n",
    "print()\n",
    "cnf_mat  = confusion_matrix(y_test,y_pred)\n",
    "print(\"Confusion Marix :\\n\",cnf_mat)\n",
    "print()\n",
    "clf_Rep = classification_report(y_test,y_pred)\n",
    "print(\"Classification Repoet:\\n\",clf_Rep)"
   ]
  },
  {
   "cell_type": "markdown",
   "id": "8387a537",
   "metadata": {},
   "source": [
    "# Hyperparameter_ OPtimization"
   ]
  },
  {
   "cell_type": "code",
   "execution_count": 138,
   "id": "2c86bf3b",
   "metadata": {},
   "outputs": [],
   "source": [
    "from sklearn.model_selection import RandomizedSearchCV"
   ]
  },
  {
   "cell_type": "code",
   "execution_count": 139,
   "id": "2376db1a",
   "metadata": {},
   "outputs": [],
   "source": [
    "rf_model = RandomForestClassifier()\n",
    "hyp = {\"n_estimators\" : np.arange(10,30),\n",
    "       \"criterion\" : [\"gini\" , \"entropy\"] , \n",
    "       \"min_samples_leaf\" : np.arange(2,20) , \n",
    "       \"min_samples_split\" : np.arange(2,10) , \n",
    "       \"random_state\" : np.arange(10,30)}"
   ]
  },
  {
   "cell_type": "code",
   "execution_count": 140,
   "id": "62b7a58e",
   "metadata": {},
   "outputs": [
    {
     "data": {
      "text/plain": [
       "RandomizedSearchCV(cv=8, estimator=RandomForestClassifier(),\n",
       "                   param_distributions={'criterion': ['gini', 'entropy'],\n",
       "                                        'min_samples_leaf': array([ 2,  3,  4,  5,  6,  7,  8,  9, 10, 11, 12, 13, 14, 15, 16, 17, 18,\n",
       "       19]),\n",
       "                                        'min_samples_split': array([2, 3, 4, 5, 6, 7, 8, 9]),\n",
       "                                        'n_estimators': array([10, 11, 12, 13, 14, 15, 16, 17, 18, 19, 20, 21, 22, 23, 24, 25, 26,\n",
       "       27, 28, 29]),\n",
       "                                        'random_state': array([10, 11, 12, 13, 14, 15, 16, 17, 18, 19, 20, 21, 22, 23, 24, 25, 26,\n",
       "       27, 28, 29])})"
      ]
     },
     "execution_count": 140,
     "metadata": {},
     "output_type": "execute_result"
    }
   ],
   "source": [
    "rscv_rf_model = RandomizedSearchCV(rf_model , hyp , cv = 8)\n",
    "rscv_rf_model.fit(x_train_ro,y_train_ro)"
   ]
  },
  {
   "cell_type": "code",
   "execution_count": 141,
   "id": "a05fd812",
   "metadata": {},
   "outputs": [
    {
     "data": {
      "text/plain": [
       "RandomForestClassifier(criterion='entropy', min_samples_leaf=2,\n",
       "                       min_samples_split=8, n_estimators=19, random_state=19)"
      ]
     },
     "execution_count": 141,
     "metadata": {},
     "output_type": "execute_result"
    }
   ],
   "source": [
    "rscv_rf_model.best_estimator_"
   ]
  },
  {
   "cell_type": "code",
   "execution_count": 142,
   "id": "1ed9474d",
   "metadata": {},
   "outputs": [
    {
     "data": {
      "text/plain": [
       "{'random_state': 19,\n",
       " 'n_estimators': 19,\n",
       " 'min_samples_split': 8,\n",
       " 'min_samples_leaf': 2,\n",
       " 'criterion': 'entropy'}"
      ]
     },
     "execution_count": 142,
     "metadata": {},
     "output_type": "execute_result"
    }
   ],
   "source": [
    "rscv_rf_model.best_params_"
   ]
  },
  {
   "cell_type": "markdown",
   "id": "88ebdac0",
   "metadata": {},
   "source": [
    "# Test Acc"
   ]
  },
  {
   "cell_type": "code",
   "execution_count": 143,
   "id": "559abc20",
   "metadata": {},
   "outputs": [
    {
     "name": "stdout",
     "output_type": "stream",
     "text": [
      "Accuracy of Test Data: 0.7862064760046344\n",
      "\n",
      "Confusion Marix :\n",
      " [[24391  2404]\n",
      " [ 4608  1395]]\n",
      "\n",
      "Classification Repoet:\n",
      "               precision    recall  f1-score   support\n",
      "\n",
      "           0       0.84      0.91      0.87     26795\n",
      "           1       0.37      0.23      0.28      6003\n",
      "\n",
      "    accuracy                           0.79     32798\n",
      "   macro avg       0.60      0.57      0.58     32798\n",
      "weighted avg       0.75      0.79      0.77     32798\n",
      "\n"
     ]
    }
   ],
   "source": [
    "y_pred = rscv_rf_model.predict(x_test)\n",
    "Accuracy = accuracy_score(y_test,y_pred)\n",
    "print(\"Accuracy of Test Data:\",Accuracy)\n",
    "print()\n",
    "cnf_mat  = confusion_matrix(y_test,y_pred)\n",
    "print(\"Confusion Marix :\\n\",cnf_mat)\n",
    "print()\n",
    "clf_Rep = classification_report(y_test,y_pred)\n",
    "print(\"Classification Repoet:\\n\",clf_Rep)"
   ]
  },
  {
   "cell_type": "code",
   "execution_count": null,
   "id": "3cd632ff",
   "metadata": {},
   "outputs": [],
   "source": []
  },
  {
   "cell_type": "code",
   "execution_count": null,
   "id": "4ff0d4c9",
   "metadata": {},
   "outputs": [],
   "source": []
  },
  {
   "cell_type": "code",
   "execution_count": 123,
   "id": "f8d0ccf2",
   "metadata": {},
   "outputs": [
    {
     "data": {
      "text/plain": [
       "'verification_status'"
      ]
     },
     "execution_count": 123,
     "metadata": {},
     "output_type": "execute_result"
    }
   ],
   "source": [
    "'loan_amnt',\n",
    "'term', \n",
    "'int_rate', \n",
    "'emp_length', \n",
    "'home_ownership',\n",
    "'annual_inc', \n",
    "'purpose', \n",
    "'addr_state', \n",
    "'dti', \n",
    "'delinq_2yrs',\n",
    "'revol_util',\n",
    "'total_acc', \n",
    "'bad_loan', \n",
    "'longest_credit_length',\n",
    "'verification_status'"
   ]
  },
  {
   "cell_type": "code",
   "execution_count": null,
   "id": "f8261084",
   "metadata": {},
   "outputs": [],
   "source": []
  },
  {
   "cell_type": "code",
   "execution_count": null,
   "id": "c32f8e1b",
   "metadata": {},
   "outputs": [],
   "source": []
  },
  {
   "cell_type": "code",
   "execution_count": null,
   "id": "2aa61352",
   "metadata": {},
   "outputs": [],
   "source": []
  },
  {
   "cell_type": "code",
   "execution_count": null,
   "id": "b1fa5159",
   "metadata": {},
   "outputs": [],
   "source": []
  }
 ],
 "metadata": {
  "kernelspec": {
   "display_name": "Python 3 (ipykernel)",
   "language": "python",
   "name": "python3"
  },
  "language_info": {
   "codemirror_mode": {
    "name": "ipython",
    "version": 3
   },
   "file_extension": ".py",
   "mimetype": "text/x-python",
   "name": "python",
   "nbconvert_exporter": "python",
   "pygments_lexer": "ipython3",
   "version": "3.9.7"
  }
 },
 "nbformat": 4,
 "nbformat_minor": 5
}
